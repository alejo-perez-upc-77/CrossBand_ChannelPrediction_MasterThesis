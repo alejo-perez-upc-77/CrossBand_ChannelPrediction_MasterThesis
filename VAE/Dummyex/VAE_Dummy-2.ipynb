{
 "cells": [
  {
   "cell_type": "code",
   "execution_count": 184,
   "metadata": {
    "executionInfo": {
     "elapsed": 3927,
     "status": "ok",
     "timestamp": 1648563758560,
     "user": {
      "displayName": "Alejo P",
      "userId": "15450393507389467183"
     },
     "user_tz": -120
    },
    "id": "lI2rd-RhQokY"
   },
   "outputs": [],
   "source": [
    "import numpy as np\n",
    "import pandas as  pd\n",
    "import tensorflow as tf\n",
    "from tensorflow import keras\n",
    "#import keras\n",
    "import matplotlib.pyplot as plt \n",
    "from tensorflow.keras import layers\n",
    "from sklearn import *\n",
    "import math\n",
    "from sklearn.preprocessing import OrdinalEncoder\n",
    "from matplotlib.pyplot import figure\n",
    "import matplotlib.pyplot as plt\n",
    "plt.rcParams[\"figure.figsize\"] = (20,10)\n",
    "from sklearn.preprocessing import MinMaxScaler\n"
   ]
  },
  {
   "cell_type": "markdown",
   "metadata": {
    "id": "teKTnzbD2-D9"
   },
   "source": [
    "## Import Data\n"
   ]
  },
  {
   "cell_type": "code",
   "execution_count": 185,
   "metadata": {
    "executionInfo": {
     "elapsed": 5048,
     "status": "ok",
     "timestamp": 1648563836307,
     "user": {
      "displayName": "Alejo P",
      "userId": "15450393507389467183"
     },
     "user_tz": -120
    },
    "id": "2bSV7m0PoPi1"
   },
   "outputs": [],
   "source": [
    "local_path = \"insurance.csv\"\n",
    "data = pd.read_csv(local_path)"
   ]
  },
  {
   "cell_type": "code",
   "execution_count": 186,
   "metadata": {},
   "outputs": [
    {
     "data": {
      "text/html": [
       "<div>\n",
       "<style scoped>\n",
       "    .dataframe tbody tr th:only-of-type {\n",
       "        vertical-align: middle;\n",
       "    }\n",
       "\n",
       "    .dataframe tbody tr th {\n",
       "        vertical-align: top;\n",
       "    }\n",
       "\n",
       "    .dataframe thead th {\n",
       "        text-align: right;\n",
       "    }\n",
       "</style>\n",
       "<table border=\"1\" class=\"dataframe\">\n",
       "  <thead>\n",
       "    <tr style=\"text-align: right;\">\n",
       "      <th></th>\n",
       "      <th>age</th>\n",
       "      <th>sex</th>\n",
       "      <th>bmi</th>\n",
       "      <th>children</th>\n",
       "      <th>smoker</th>\n",
       "      <th>region</th>\n",
       "      <th>charges</th>\n",
       "    </tr>\n",
       "  </thead>\n",
       "  <tbody>\n",
       "    <tr>\n",
       "      <th>0</th>\n",
       "      <td>19</td>\n",
       "      <td>female</td>\n",
       "      <td>27.900</td>\n",
       "      <td>0</td>\n",
       "      <td>yes</td>\n",
       "      <td>southwest</td>\n",
       "      <td>16884.92400</td>\n",
       "    </tr>\n",
       "    <tr>\n",
       "      <th>1</th>\n",
       "      <td>18</td>\n",
       "      <td>male</td>\n",
       "      <td>33.770</td>\n",
       "      <td>1</td>\n",
       "      <td>no</td>\n",
       "      <td>southeast</td>\n",
       "      <td>1725.55230</td>\n",
       "    </tr>\n",
       "    <tr>\n",
       "      <th>2</th>\n",
       "      <td>28</td>\n",
       "      <td>male</td>\n",
       "      <td>33.000</td>\n",
       "      <td>3</td>\n",
       "      <td>no</td>\n",
       "      <td>southeast</td>\n",
       "      <td>4449.46200</td>\n",
       "    </tr>\n",
       "    <tr>\n",
       "      <th>3</th>\n",
       "      <td>33</td>\n",
       "      <td>male</td>\n",
       "      <td>22.705</td>\n",
       "      <td>0</td>\n",
       "      <td>no</td>\n",
       "      <td>northwest</td>\n",
       "      <td>21984.47061</td>\n",
       "    </tr>\n",
       "    <tr>\n",
       "      <th>4</th>\n",
       "      <td>32</td>\n",
       "      <td>male</td>\n",
       "      <td>28.880</td>\n",
       "      <td>0</td>\n",
       "      <td>no</td>\n",
       "      <td>northwest</td>\n",
       "      <td>3866.85520</td>\n",
       "    </tr>\n",
       "    <tr>\n",
       "      <th>...</th>\n",
       "      <td>...</td>\n",
       "      <td>...</td>\n",
       "      <td>...</td>\n",
       "      <td>...</td>\n",
       "      <td>...</td>\n",
       "      <td>...</td>\n",
       "      <td>...</td>\n",
       "    </tr>\n",
       "    <tr>\n",
       "      <th>1333</th>\n",
       "      <td>50</td>\n",
       "      <td>male</td>\n",
       "      <td>30.970</td>\n",
       "      <td>3</td>\n",
       "      <td>no</td>\n",
       "      <td>northwest</td>\n",
       "      <td>10600.54830</td>\n",
       "    </tr>\n",
       "    <tr>\n",
       "      <th>1334</th>\n",
       "      <td>18</td>\n",
       "      <td>female</td>\n",
       "      <td>31.920</td>\n",
       "      <td>0</td>\n",
       "      <td>no</td>\n",
       "      <td>northeast</td>\n",
       "      <td>2205.98080</td>\n",
       "    </tr>\n",
       "    <tr>\n",
       "      <th>1335</th>\n",
       "      <td>18</td>\n",
       "      <td>female</td>\n",
       "      <td>36.850</td>\n",
       "      <td>0</td>\n",
       "      <td>no</td>\n",
       "      <td>southeast</td>\n",
       "      <td>1629.83350</td>\n",
       "    </tr>\n",
       "    <tr>\n",
       "      <th>1336</th>\n",
       "      <td>21</td>\n",
       "      <td>female</td>\n",
       "      <td>25.800</td>\n",
       "      <td>0</td>\n",
       "      <td>no</td>\n",
       "      <td>southwest</td>\n",
       "      <td>2007.94500</td>\n",
       "    </tr>\n",
       "    <tr>\n",
       "      <th>1337</th>\n",
       "      <td>61</td>\n",
       "      <td>female</td>\n",
       "      <td>29.070</td>\n",
       "      <td>0</td>\n",
       "      <td>yes</td>\n",
       "      <td>northwest</td>\n",
       "      <td>29141.36030</td>\n",
       "    </tr>\n",
       "  </tbody>\n",
       "</table>\n",
       "<p>1338 rows × 7 columns</p>\n",
       "</div>"
      ],
      "text/plain": [
       "      age     sex     bmi  children smoker     region      charges\n",
       "0      19  female  27.900         0    yes  southwest  16884.92400\n",
       "1      18    male  33.770         1     no  southeast   1725.55230\n",
       "2      28    male  33.000         3     no  southeast   4449.46200\n",
       "3      33    male  22.705         0     no  northwest  21984.47061\n",
       "4      32    male  28.880         0     no  northwest   3866.85520\n",
       "...   ...     ...     ...       ...    ...        ...          ...\n",
       "1333   50    male  30.970         3     no  northwest  10600.54830\n",
       "1334   18  female  31.920         0     no  northeast   2205.98080\n",
       "1335   18  female  36.850         0     no  southeast   1629.83350\n",
       "1336   21  female  25.800         0     no  southwest   2007.94500\n",
       "1337   61  female  29.070         0    yes  northwest  29141.36030\n",
       "\n",
       "[1338 rows x 7 columns]"
      ]
     },
     "execution_count": 186,
     "metadata": {},
     "output_type": "execute_result"
    }
   ],
   "source": [
    "data"
   ]
  },
  {
   "cell_type": "code",
   "execution_count": 187,
   "metadata": {},
   "outputs": [],
   "source": [
    "data_np = data.values\n",
    "y = data_np[:,(-1)]\n",
    "X = data.drop(columns=[\"charges\"]).values"
   ]
  },
  {
   "cell_type": "code",
   "execution_count": 188,
   "metadata": {},
   "outputs": [
    {
     "data": {
      "text/plain": [
       "array([[19, 'female', 27.9, 0, 'yes', 'southwest'],\n",
       "       [18, 'male', 33.77, 1, 'no', 'southeast'],\n",
       "       [28, 'male', 33.0, 3, 'no', 'southeast'],\n",
       "       ...,\n",
       "       [18, 'female', 36.85, 0, 'no', 'southeast'],\n",
       "       [21, 'female', 25.8, 0, 'no', 'southwest'],\n",
       "       [61, 'female', 29.07, 0, 'yes', 'northwest']], dtype=object)"
      ]
     },
     "execution_count": 188,
     "metadata": {},
     "output_type": "execute_result"
    }
   ],
   "source": [
    "X"
   ]
  },
  {
   "cell_type": "code",
   "execution_count": 189,
   "metadata": {},
   "outputs": [],
   "source": [
    "X_train, X_test, y_train, y_test = model_selection.train_test_split(X, y, test_size=0.4, shuffle=True)"
   ]
  },
  {
   "cell_type": "code",
   "execution_count": null,
   "metadata": {},
   "outputs": [],
   "source": []
  },
  {
   "cell_type": "code",
   "execution_count": 190,
   "metadata": {},
   "outputs": [],
   "source": [
    "# prepare input data\n",
    "def prepare_inputs(X_train, X_test):\n",
    "    oe = OrdinalEncoder()\n",
    "    oe.fit(X_train)\n",
    "    X_train_enc = oe.transform(X_train)\n",
    "    X_test_enc = oe.transform(X_test)\n",
    "    return X_train_enc, X_test_enc\n",
    "\n",
    "X_train_enc_col, X_test_enc_col = prepare_inputs(X_train[:,(1,3,4,5)], X_test[:,(1,3,4,5)])"
   ]
  },
  {
   "cell_type": "code",
   "execution_count": 191,
   "metadata": {},
   "outputs": [],
   "source": [
    "## prepare input data\n",
    "#def prepare_inputs(X_train, X_test):\n",
    "#    oe = OrdinalEncoder()\n",
    "#    oe.fit(X_train)\n",
    "#    X_train_enc = oe.transform(X_train)\n",
    "#    X_test_enc = oe.transform(X_test)\n",
    "#    return X_train_enc, X_test_enc\n",
    "#\n",
    "#X_train_enc_col, X_test_enc_col = prepare_inputs(X_train[:,(1,4,5)], X_test[:,(1,4,5)])"
   ]
  },
  {
   "cell_type": "code",
   "execution_count": 192,
   "metadata": {},
   "outputs": [],
   "source": [
    "X_train[:,(1,3,4,5)] = X_train_enc_col\n",
    "\n",
    "X_test[:,(1,3,4,5)] = X_test_enc_col\n",
    "\n"
   ]
  },
  {
   "cell_type": "code",
   "execution_count": 193,
   "metadata": {},
   "outputs": [],
   "source": [
    "def minmax(X) :\n",
    "    \n",
    "    return (X - X.min())/(X.max()-X.min())\n"
   ]
  },
  {
   "cell_type": "code",
   "execution_count": 194,
   "metadata": {},
   "outputs": [],
   "source": [
    "\n",
    "X_train[:,0] = minmax(X_train[:,0])\n",
    "X_test[:,0] = minmax(X_test[:,0])\n",
    "\n",
    "X_train[:,2] = minmax(X_train[:,2])\n",
    "X_test[:,2] = minmax(X_test[:,2])\n",
    "\n",
    "X_train[:,3] = minmax(X_train[:,3])\n",
    "X_test[:,3] = minmax(X_test[:,3])"
   ]
  },
  {
   "cell_type": "code",
   "execution_count": 195,
   "metadata": {},
   "outputs": [
    {
     "name": "stdout",
     "output_type": "stream",
     "text": [
      "(802, 6)\n",
      "(802,)\n",
      "(536, 6)\n",
      "(536,)\n"
     ]
    }
   ],
   "source": [
    "print(X_train.shape)\n",
    "print(y_train.shape)\n",
    "print(X_test.shape)\n",
    "print(y_test.shape)"
   ]
  },
  {
   "cell_type": "code",
   "execution_count": 196,
   "metadata": {},
   "outputs": [],
   "source": [
    "X_train = np.delete(X_train, 2, 1)\n",
    "X_test = np.delete(X_test, 2, 1)"
   ]
  },
  {
   "cell_type": "code",
   "execution_count": 198,
   "metadata": {},
   "outputs": [
    {
     "data": {
      "text/plain": [
       "array([[0.6086956521739131, 0.0, 0.0, 0.0, 1.0],\n",
       "       [0.7608695652173914, 1.0, 0.4, 0.0, 0.0],\n",
       "       [0.13043478260869565, 0.0, 0.0, 0.0, 3.0],\n",
       "       ...,\n",
       "       [0.8913043478260869, 0.0, 0.0, 0.0, 0.0],\n",
       "       [0.2826086956521739, 0.0, 0.4, 0.0, 2.0],\n",
       "       [0.3695652173913043, 0.0, 0.0, 0.0, 0.0]], dtype=object)"
      ]
     },
     "execution_count": 198,
     "metadata": {},
     "output_type": "execute_result"
    }
   ],
   "source": [
    "X_train"
   ]
  },
  {
   "cell_type": "code",
   "execution_count": 199,
   "metadata": {},
   "outputs": [
    {
     "data": {
      "text/plain": [
       "array([[0.6086956 , 0.        , 0.        , 0.        , 1.        ],\n",
       "       [0.76086956, 1.        , 0.4       , 0.        , 0.        ],\n",
       "       [0.13043478, 0.        , 0.        , 0.        , 3.        ],\n",
       "       ...,\n",
       "       [0.8913044 , 0.        , 0.        , 0.        , 0.        ],\n",
       "       [0.2826087 , 0.        , 0.4       , 0.        , 2.        ],\n",
       "       [0.36956522, 0.        , 0.        , 0.        , 0.        ]],\n",
       "      dtype=float32)"
      ]
     },
     "execution_count": 199,
     "metadata": {},
     "output_type": "execute_result"
    }
   ],
   "source": [
    "X_train.astype('float32')"
   ]
  },
  {
   "cell_type": "code",
   "execution_count": 200,
   "metadata": {},
   "outputs": [],
   "source": [
    "X_train = tf.convert_to_tensor(X_train.astype('float32'))\n",
    "y_train = tf.convert_to_tensor(y_train.astype('float32'))\n",
    "X_test = tf.convert_to_tensor(X_test.astype('float32'))\n",
    "y_test = tf.convert_to_tensor(y_test.astype('float32'))"
   ]
  },
  {
   "cell_type": "markdown",
   "metadata": {
    "id": "Z3hj8-Ir4jwu"
   },
   "source": [
    "\n",
    "## Create a sampling layer\n"
   ]
  },
  {
   "cell_type": "code",
   "execution_count": 201,
   "metadata": {
    "executionInfo": {
     "elapsed": 8,
     "status": "ok",
     "timestamp": 1648563836309,
     "user": {
      "displayName": "Alejo P",
      "userId": "15450393507389467183"
     },
     "user_tz": -120
    },
    "id": "E1nDJk0ZTQk6"
   },
   "outputs": [],
   "source": [
    "class Sampling(layers.Layer):\n",
    "    \"\"\"Uses (z_mean, z_log_var) to sample z, the vector encoding a digit.\"\"\"\n",
    "\n",
    "    def call(self, inputs):\n",
    "        z_mean, z_log_var = inputs\n",
    "        batch = tf.shape(z_mean)[0]\n",
    "        dim = tf.shape(z_mean)[1]\n",
    "        epsilon = tf.keras.backend.random_normal(shape=(batch, dim)) # Parametrization trick\n",
    "        return z_mean + tf.exp(0.5 * z_log_var) * epsilon "
   ]
  },
  {
   "cell_type": "markdown",
   "metadata": {
    "id": "pI0KPRY64u5W"
   },
   "source": [
    "## Build the encoder\n"
   ]
  },
  {
   "cell_type": "code",
   "execution_count": 202,
   "metadata": {
    "colab": {
     "base_uri": "https://localhost:8080/"
    },
    "executionInfo": {
     "elapsed": 12,
     "status": "ok",
     "timestamp": 1648563859799,
     "user": {
      "displayName": "Alejo P",
      "userId": "15450393507389467183"
     },
     "user_tz": -120
    },
    "id": "py1ZMO_dTQvf",
    "outputId": "b0edcf1c-d2cd-4788-f981-c04df76c2622"
   },
   "outputs": [
    {
     "name": "stdout",
     "output_type": "stream",
     "text": [
      "Model: \"encoder\"\n",
      "__________________________________________________________________________________________________\n",
      " Layer (type)                   Output Shape         Param #     Connected to                     \n",
      "==================================================================================================\n",
      " input_9 (InputLayer)           [(None, 5)]          0           []                               \n",
      "                                                                                                  \n",
      " dense_11 (Dense)               (None, 3)            18          ['input_9[0][0]']                \n",
      "                                                                                                  \n",
      " z_mean (Dense)                 (None, 3)            12          ['dense_11[0][0]']               \n",
      "                                                                                                  \n",
      " z_log_var (Dense)              (None, 3)            12          ['dense_11[0][0]']               \n",
      "                                                                                                  \n",
      " sampling_5 (Sampling)          (None, 3)            0           ['z_mean[0][0]',                 \n",
      "                                                                  'z_log_var[0][0]']              \n",
      "                                                                                                  \n",
      "==================================================================================================\n",
      "Total params: 42\n",
      "Trainable params: 42\n",
      "Non-trainable params: 0\n",
      "__________________________________________________________________________________________________\n"
     ]
    }
   ],
   "source": [
    "latent_dim = 3 # Latent Space dimension on the bottleneck\n",
    "input_dim = X_train.shape[1]\n",
    "Leaky_ReLu = keras.layers.LeakyReLU(alpha=0.01)\n",
    "\n",
    "encoder_inputs = keras.Input(shape=( input_dim, ))\n",
    "x = layers.Dense(3, activation=Leaky_ReLu)(encoder_inputs)\n",
    "\n",
    "z_mean = layers.Dense(latent_dim, name=\"z_mean\")(x)\n",
    "z_log_var = layers.Dense(latent_dim, name=\"z_log_var\")(x)\n",
    "z = Sampling()([z_mean, z_log_var])\n",
    "encoder = keras.Model(encoder_inputs, [z_mean, z_log_var, z], name=\"encoder\")\n",
    "encoder.summary()"
   ]
  },
  {
   "cell_type": "code",
   "execution_count": 203,
   "metadata": {
    "colab": {
     "base_uri": "https://localhost:8080/",
     "height": 754
    },
    "executionInfo": {
     "elapsed": 7,
     "status": "ok",
     "timestamp": 1648563864250,
     "user": {
      "displayName": "Alejo P",
      "userId": "15450393507389467183"
     },
     "user_tz": -120
    },
    "id": "50ieXcxa-3sH",
    "outputId": "36cbd098-5224-4fbd-880f-01bbfce25d0a"
   },
   "outputs": [
    {
     "data": {
      "image/png": "[encoded data removed]",
      "text/plain": [
       "<IPython.core.display.Image object>"
      ]
     },
     "execution_count": 203,
     "metadata": {},
     "output_type": "execute_result"
    }
   ],
   "source": [
    "from keras.utils.vis_utils import plot_model\n",
    "keras.utils.plot_model(encoder, to_file='encoder.png')"
   ]
  },
  {
   "cell_type": "markdown",
   "metadata": {
    "id": "XJbKTtFq-62-"
   },
   "source": [
    "## Build the decoder\n"
   ]
  },
  {
   "cell_type": "code",
   "execution_count": 204,
   "metadata": {
    "colab": {
     "base_uri": "https://localhost:8080/"
    },
    "executionInfo": {
     "elapsed": 542,
     "status": "ok",
     "timestamp": 1648567712061,
     "user": {
      "displayName": "Alejo P",
      "userId": "15450393507389467183"
     },
     "user_tz": -120
    },
    "id": "C0yQgBs9TQ3X",
    "outputId": "6c2bb351-e2e7-4d5a-b834-28c00f709eed"
   },
   "outputs": [
    {
     "name": "stdout",
     "output_type": "stream",
     "text": [
      "Model: \"decoder\"\n",
      "_________________________________________________________________\n",
      " Layer (type)                Output Shape              Param #   \n",
      "=================================================================\n",
      " input_10 (InputLayer)       [(None, 3)]               0         \n",
      "                                                                 \n",
      " dense_12 (Dense)            (None, 3)                 12        \n",
      "                                                                 \n",
      " dense_13 (Dense)            (None, 1)                 4         \n",
      "                                                                 \n",
      "=================================================================\n",
      "Total params: 16\n",
      "Trainable params: 16\n",
      "Non-trainable params: 0\n",
      "_________________________________________________________________\n"
     ]
    }
   ],
   "source": [
    "latent_inputs = keras.Input(shape=(latent_dim,))\n",
    "x = layers.Dense(3,  activation=Leaky_ReLu)(latent_inputs)\n",
    "decoder_outputs = layers.Dense(1, activation=\"linear\")(x)\n",
    "decoder = keras.Model(latent_inputs, decoder_outputs, name=\"decoder\")\n",
    "decoder.summary()"
   ]
  },
  {
   "cell_type": "code",
   "execution_count": 205,
   "metadata": {
    "colab": {
     "base_uri": "https://localhost:8080/",
     "height": 644
    },
    "executionInfo": {
     "elapsed": 890,
     "status": "ok",
     "timestamp": 1648567730470,
     "user": {
      "displayName": "Alejo P",
      "userId": "15450393507389467183"
     },
     "user_tz": -120
    },
    "id": "aMenD_-Oa8sK",
    "outputId": "33f41c7f-8e8c-46e0-c029-4463ae9865c8"
   },
   "outputs": [
    {
     "data": {
      "image/png": "[encoded data removed]",
      "text/plain": [
       "<IPython.core.display.Image object>"
      ]
     },
     "execution_count": 205,
     "metadata": {},
     "output_type": "execute_result"
    }
   ],
   "source": [
    "plot_model(decoder,  show_shapes=True, show_layer_names=True)"
   ]
  },
  {
   "cell_type": "markdown",
   "metadata": {
    "id": "BqUfUjkeXZcQ"
   },
   "source": [
    "## Define the VAE as a Model with a custom train_step\n"
   ]
  },
  {
   "cell_type": "code",
   "execution_count": 206,
   "metadata": {
    "executionInfo": {
     "elapsed": 426,
     "status": "ok",
     "timestamp": 1648569160987,
     "user": {
      "displayName": "Alejo P",
      "userId": "15450393507389467183"
     },
     "user_tz": -120
    },
    "id": "Wxk76mbHSzof"
   },
   "outputs": [],
   "source": [
    "class VAE(keras.Model):\n",
    "    def __init__(self, encoder, decoder, KL_hyperparam, **kwargs):\n",
    "        super(VAE, self).__init__(**kwargs)\n",
    "        self.KL_hyperparam = KL_hyperparam\n",
    "        self.encoder = encoder\n",
    "        self.decoder = decoder\n",
    "        self.total_loss_tracker = keras.metrics.Mean(name=\"total_loss\")  #MEAN? \n",
    "        self.reconstruction_loss_tracker = keras.metrics.Mean(    #MEAN? \n",
    "            name=\"MSE\"\n",
    "        )\n",
    "        self.kl_loss_tracker = keras.metrics.Mean(name=\"kl_loss\")   #MEAN? \n",
    "        \n",
    "        self.total_loss_tracker_val = keras.metrics.Mean(name=\"total_loss_val\")  #MEAN? \n",
    "        self.reconstruction_loss_tracker_val = keras.metrics.Mean(    #MEAN? \n",
    "            name=\"MSE_val\"\n",
    "        )\n",
    "        self.kl_loss_tracker_val = keras.metrics.Mean(name=\"kl_loss_val\")   #MEAN? \n",
    "\n",
    "    @property\n",
    "    def metrics(self):\n",
    "        return [\n",
    "            self.total_loss_tracker,\n",
    "            self.reconstruction_loss_tracker,\n",
    "            self.kl_loss_tracker,\n",
    "            \n",
    "            self.total_loss_tracker_val,\n",
    "            self.reconstruction_loss_tracker_val,\n",
    "            self.kl_loss_tracker_val\n",
    "        ]\n",
    "\n",
    "    def train_step(self, data):\n",
    "        x, y_true = data\n",
    "        with tf.GradientTape() as tape:\n",
    "            z_mean, z_log_var, z = self.encoder(x)\n",
    "            reconstruction = self.decoder(z)\n",
    "            reconstruction_loss = keras.losses.mean_squared_error(y_true, reconstruction)\n",
    "            \n",
    "            kl_loss = -0.5 * (1 + z_log_var - tf.square(z_mean) - tf.exp(z_log_var))\n",
    "            kl_loss = tf.reduce_mean(tf.reduce_sum(kl_loss, axis=1))\n",
    "            #kl_loss = tf.reduce_mean(kl_loss, axis=1)\n",
    "            \n",
    "            total_loss = reconstruction_loss + kl_loss * self.KL_hyperparam\n",
    "            \n",
    "        grads = tape.gradient(total_loss, self.trainable_weights)\n",
    "        self.optimizer.apply_gradients(zip(grads, self.trainable_weights))\n",
    "        \n",
    "        self.total_loss_tracker.update_state(total_loss)\n",
    "        \n",
    "        self.reconstruction_loss_tracker.update_state(reconstruction_loss)\n",
    "        \n",
    "        self.kl_loss_tracker.update_state(kl_loss)\n",
    "        \n",
    "        return {\n",
    "            \"loss\": self.total_loss_tracker.result(),\n",
    "            \"MSE\": self.reconstruction_loss_tracker.result(),\n",
    "            \"kl_loss\": self.kl_loss_tracker.result(),\n",
    "        }\n",
    "\n",
    "    def test_step(self, data):\n",
    "        # Unpack the data\n",
    "        x, y_true = data\n",
    "        # Compute predictions\n",
    "        z_mean, z_log_var, z = self.encoder(x)\n",
    "        reconstruction = self.decoder(z)\n",
    "        \n",
    "        ## Losses\n",
    "        reconstruction_loss = keras.losses.mean_squared_error(y_true, reconstruction)\n",
    "        \n",
    "        kl_loss = -0.5 * (1 + z_log_var - tf.square(z_mean) - tf.exp(z_log_var))\n",
    "        kl_loss = tf.reduce_mean(tf.reduce_sum(kl_loss, axis=1))\n",
    "        \n",
    "        total_loss = reconstruction_loss + kl_loss * self.KL_hyperparam\n",
    "\n",
    "        # Updates the metrics tracking the loss\n",
    "        self.total_loss_tracker_val.update_state(total_loss)\n",
    "        \n",
    "        self.reconstruction_loss_tracker_val.update_state(reconstruction_loss)\n",
    "        \n",
    "        self.kl_loss_tracker_val.update_state(kl_loss)\n",
    "        \n",
    "        return {\n",
    "            \"loss_val\": self.total_loss_tracker_val.result(),\n",
    "            \"MSE_val\": self.reconstruction_loss_tracker_val.result(),\n",
    "            \"kl_loss_val\": self.kl_loss_tracker_val.result(),\n",
    "        }\n",
    "\n",
    "\n",
    "\n",
    "    def call(self, inputs):\n",
    "\n",
    "        z_mean, z_log_var, z = self.encoder(inputs)\n",
    "        reconstruction = self.decoder(z)\n",
    "                \n",
    "\n",
    "\n",
    "        return reconstruction\n",
    "    \n"
   ]
  },
  {
   "cell_type": "markdown",
   "metadata": {
    "id": "qlLgCJgHYU2N"
   },
   "source": [
    "## Train the VAE"
   ]
  },
  {
   "cell_type": "code",
   "execution_count": 207,
   "metadata": {},
   "outputs": [],
   "source": [
    "vae = VAE(encoder, decoder, 1)"
   ]
  },
  {
   "cell_type": "code",
   "execution_count": 208,
   "metadata": {},
   "outputs": [],
   "source": [
    "from keras.optimizers import adam_v2\n",
    "adam = adam_v2.Adam()\n",
    "\n",
    "\n"
   ]
  },
  {
   "cell_type": "code",
   "execution_count": 209,
   "metadata": {},
   "outputs": [],
   "source": [
    "vae.compile(optimizer=adam)"
   ]
  },
  {
   "cell_type": "code",
   "execution_count": null,
   "metadata": {},
   "outputs": [],
   "source": []
  },
  {
   "cell_type": "code",
   "execution_count": null,
   "metadata": {},
   "outputs": [],
   "source": []
  },
  {
   "cell_type": "code",
   "execution_count": 210,
   "metadata": {},
   "outputs": [
    {
     "name": "stdout",
     "output_type": "stream",
     "text": [
      "Epoch 1/200\n",
      "101/101 [==============================] - 1s 3ms/step - loss: 344059405.4902 - MSE: 322842848.0000 - kl_loss: 1.4947 - val_loss_val: 322315456.0000 - val_MSE_val: 322315456.0000 - val_kl_loss_val: 2.6009\n",
      "Epoch 2/200\n",
      "101/101 [==============================] - 0s 2ms/step - loss: 325908832.0000 - MSE: 322821856.0000 - kl_loss: 4.6941 - val_loss_val: 322281248.0000 - val_MSE_val: 322281248.0000 - val_kl_loss_val: 8.6308\n",
      "Epoch 3/200\n",
      "101/101 [==============================] - 0s 2ms/step - loss: 316781147.9216 - MSE: 322758208.0000 - kl_loss: 19.8236 - val_loss_val: 322167776.0000 - val_MSE_val: 322167744.0000 - val_kl_loss_val: 44.9417\n",
      "Epoch 4/200\n",
      "101/101 [==============================] - 0s 2ms/step - loss: 326006887.8431 - MSE: 322328064.0000 - kl_loss: 554.6359 - val_loss_val: 320587840.0000 - val_MSE_val: 320584064.0000 - val_kl_loss_val: 3895.3108\n",
      "Epoch 5/200\n",
      "101/101 [==============================] - 0s 2ms/step - loss: 356251838.1176 - MSE: 314363424.0000 - kl_loss: 254540.0469 - val_loss_val: 298280704.0000 - val_MSE_val: 295859424.0000 - val_kl_loss_val: 2421277.2500\n",
      "Epoch 6/200\n",
      "101/101 [==============================] - 0s 2ms/step - loss: 278692426.0392 - MSE: 300536224.0000 - kl_loss: 2091500.8750 - val_loss_val: 296085984.0000 - val_MSE_val: 293911712.0000 - val_kl_loss_val: 2174298.2500\n",
      "Epoch 7/200\n",
      "101/101 [==============================] - 0s 2ms/step - loss: 303644254.4314 - MSE: 294601184.0000 - kl_loss: 2051942.7500 - val_loss_val: 303609376.0000 - val_MSE_val: 300946336.0000 - val_kl_loss_val: 2663096.7500\n",
      "Epoch 8/200\n",
      "101/101 [==============================] - 0s 2ms/step - loss: 309002866.0392 - MSE: 296698272.0000 - kl_loss: 2489607.5000 - val_loss_val: 295692736.0000 - val_MSE_val: 293315776.0000 - val_kl_loss_val: 2376960.0000\n",
      "Epoch 9/200\n",
      "101/101 [==============================] - 0s 2ms/step - loss: 297232075.9216 - MSE: 302127328.0000 - kl_loss: 1347283.0000 - val_loss_val: 295740608.0000 - val_MSE_val: 294424224.0000 - val_kl_loss_val: 1316388.0000\n",
      "Epoch 10/200\n",
      "101/101 [==============================] - 0s 2ms/step - loss: 309887666.5098 - MSE: 297469120.0000 - kl_loss: 1188436.8750 - val_loss_val: 298870432.0000 - val_MSE_val: 297233440.0000 - val_kl_loss_val: 1636967.8750\n",
      "Epoch 11/200\n",
      "101/101 [==============================] - 0s 2ms/step - loss: 291645590.2745 - MSE: 298345664.0000 - kl_loss: 1303268.5000 - val_loss_val: 298929952.0000 - val_MSE_val: 297209536.0000 - val_kl_loss_val: 1720396.0000\n",
      "Epoch 12/200\n",
      "101/101 [==============================] - 0s 2ms/step - loss: 273552660.8627 - MSE: 289637664.0000 - kl_loss: 1743431.2500 - val_loss_val: 294122976.0000 - val_MSE_val: 292159936.0000 - val_kl_loss_val: 1962934.0000\n",
      "Epoch 13/200\n",
      "101/101 [==============================] - 0s 2ms/step - loss: 318782052.0784 - MSE: 293201440.0000 - kl_loss: 1609473.0000 - val_loss_val: 294569632.0000 - val_MSE_val: 292713408.0000 - val_kl_loss_val: 1856296.0000\n",
      "Epoch 14/200\n",
      "101/101 [==============================] - 0s 2ms/step - loss: 269627489.0980 - MSE: 289316256.0000 - kl_loss: 1738010.7500 - val_loss_val: 293522720.0000 - val_MSE_val: 291532224.0000 - val_kl_loss_val: 1990426.7500\n",
      "Epoch 15/200\n",
      "101/101 [==============================] - 0s 2ms/step - loss: 296535908.2353 - MSE: 306277504.0000 - kl_loss: 1839338.5000 - val_loss_val: 293230272.0000 - val_MSE_val: 291823296.0000 - val_kl_loss_val: 1407011.2500\n",
      "Epoch 16/200\n",
      "101/101 [==============================] - 0s 2ms/step - loss: 298949464.1569 - MSE: 291497760.0000 - kl_loss: 1086313.7500 - val_loss_val: 291672736.0000 - val_MSE_val: 290319584.0000 - val_kl_loss_val: 1353136.0000\n",
      "Epoch 17/200\n",
      "101/101 [==============================] - 0s 2ms/step - loss: 267575936.3529 - MSE: 292300768.0000 - kl_loss: 1273547.0000 - val_loss_val: 294030176.0000 - val_MSE_val: 292549440.0000 - val_kl_loss_val: 1480739.8750\n",
      "Epoch 18/200\n",
      "101/101 [==============================] - 0s 2ms/step - loss: 277375667.0196 - MSE: 291400608.0000 - kl_loss: 1204115.1250 - val_loss_val: 297313376.0000 - val_MSE_val: 295795360.0000 - val_kl_loss_val: 1518042.5000\n",
      "Epoch 19/200\n",
      "101/101 [==============================] - 0s 2ms/step - loss: 296537706.6667 - MSE: 288928032.0000 - kl_loss: 1338760.8750 - val_loss_val: 287827456.0000 - val_MSE_val: 286245216.0000 - val_kl_loss_val: 1582258.0000\n",
      "Epoch 20/200\n",
      "101/101 [==============================] - 0s 2ms/step - loss: 290377118.7451 - MSE: 290861568.0000 - kl_loss: 1439390.7500 - val_loss_val: 286272256.0000 - val_MSE_val: 284583936.0000 - val_kl_loss_val: 1688358.5000\n",
      "Epoch 21/200\n",
      "101/101 [==============================] - 0s 2ms/step - loss: 314944422.5882 - MSE: 294248576.0000 - kl_loss: 1297734.5000 - val_loss_val: 286134400.0000 - val_MSE_val: 284763200.0000 - val_kl_loss_val: 1371169.2500\n",
      "Epoch 22/200\n",
      "101/101 [==============================] - 0s 2ms/step - loss: 331820229.9608 - MSE: 290975456.0000 - kl_loss: 1033706.0625 - val_loss_val: 293541152.0000 - val_MSE_val: 292360960.0000 - val_kl_loss_val: 1180267.0000\n",
      "Epoch 23/200\n",
      "101/101 [==============================] - 0s 2ms/step - loss: 301353503.3725 - MSE: 290559392.0000 - kl_loss: 1057887.0000 - val_loss_val: 287638400.0000 - val_MSE_val: 286416800.0000 - val_kl_loss_val: 1221608.7500\n",
      "Epoch 24/200\n",
      "101/101 [==============================] - 0s 2ms/step - loss: 255669874.3529 - MSE: 288502848.0000 - kl_loss: 1085449.6250 - val_loss_val: 285460416.0000 - val_MSE_val: 284172864.0000 - val_kl_loss_val: 1287562.7500\n",
      "Epoch 25/200\n",
      "101/101 [==============================] - 0s 2ms/step - loss: 274883190.7451 - MSE: 280755456.0000 - kl_loss: 1198944.5000 - val_loss_val: 284078272.0000 - val_MSE_val: 282669920.0000 - val_kl_loss_val: 1408363.3750\n",
      "Epoch 26/200\n",
      "101/101 [==============================] - 0s 2ms/step - loss: 258919233.5294 - MSE: 284573792.0000 - kl_loss: 1253012.6250 - val_loss_val: 285123008.0000 - val_MSE_val: 283753696.0000 - val_kl_loss_val: 1369359.5000\n",
      "Epoch 27/200\n",
      "101/101 [==============================] - 0s 2ms/step - loss: 303725712.0000 - MSE: 284473472.0000 - kl_loss: 1214435.3750 - val_loss_val: 282192896.0000 - val_MSE_val: 280801824.0000 - val_kl_loss_val: 1390962.5000\n",
      "Epoch 28/200\n",
      "101/101 [==============================] - 0s 2ms/step - loss: 277499518.5882 - MSE: 288183456.0000 - kl_loss: 1226262.6250 - val_loss_val: 281195584.0000 - val_MSE_val: 280186176.0000 - val_kl_loss_val: 1009459.3125\n",
      "Epoch 29/200\n",
      "101/101 [==============================] - 0s 2ms/step - loss: 285615789.8824 - MSE: 282078720.0000 - kl_loss: 941642.0625 - val_loss_val: 285315968.0000 - val_MSE_val: 284064640.0000 - val_kl_loss_val: 1251329.0000\n",
      "Epoch 30/200\n",
      "101/101 [==============================] - 0s 3ms/step - loss: 260974611.6078 - MSE: 283230144.0000 - kl_loss: 1062363.5000 - val_loss_val: 281424384.0000 - val_MSE_val: 280075008.0000 - val_kl_loss_val: 1349414.6250\n",
      "Epoch 31/200\n",
      "101/101 [==============================] - 0s 3ms/step - loss: 277932614.1176 - MSE: 285132672.0000 - kl_loss: 1088044.1250 - val_loss_val: 277637216.0000 - val_MSE_val: 276669120.0000 - val_kl_loss_val: 968120.5625\n",
      "Epoch 32/200\n",
      "101/101 [==============================] - 0s 3ms/step - loss: 293018766.4314 - MSE: 280153664.0000 - kl_loss: 905791.3750 - val_loss_val: 279415136.0000 - val_MSE_val: 278299360.0000 - val_kl_loss_val: 1115874.0000\n",
      "Epoch 33/200\n",
      "101/101 [==============================] - 0s 3ms/step - loss: 277121420.7059 - MSE: 280713312.0000 - kl_loss: 955170.7500 - val_loss_val: 288272896.0000 - val_MSE_val: 287190656.0000 - val_kl_loss_val: 1082275.6250\n",
      "Epoch 34/200\n",
      "101/101 [==============================] - 0s 3ms/step - loss: 267485639.7451 - MSE: 275963744.0000 - kl_loss: 930973.0625 - val_loss_val: 276528608.0000 - val_MSE_val: 275459744.0000 - val_kl_loss_val: 1068914.7500\n",
      "Epoch 35/200\n",
      "101/101 [==============================] - 0s 3ms/step - loss: 289243198.7451 - MSE: 277149888.0000 - kl_loss: 858061.6875 - val_loss_val: 274696352.0000 - val_MSE_val: 273720992.0000 - val_kl_loss_val: 975358.5000\n",
      "Epoch 36/200\n",
      "101/101 [==============================] - 0s 3ms/step - loss: 282249170.3529 - MSE: 277327584.0000 - kl_loss: 836833.5000 - val_loss_val: 273193472.0000 - val_MSE_val: 272160096.0000 - val_kl_loss_val: 1033408.8125\n"
     ]
    },
    {
     "name": "stdout",
     "output_type": "stream",
     "text": [
      "Epoch 37/200\n",
      "101/101 [==============================] - 0s 3ms/step - loss: 266051762.6667 - MSE: 271995776.0000 - kl_loss: 921751.0000 - val_loss_val: 270462368.0000 - val_MSE_val: 269339040.0000 - val_kl_loss_val: 1123303.1250\n",
      "Epoch 38/200\n",
      "101/101 [==============================] - 0s 3ms/step - loss: 275916508.5490 - MSE: 271643968.0000 - kl_loss: 882980.5000 - val_loss_val: 276455552.0000 - val_MSE_val: 275394912.0000 - val_kl_loss_val: 1060666.8750\n",
      "Epoch 39/200\n",
      "101/101 [==============================] - 0s 3ms/step - loss: 281806562.8235 - MSE: 267919056.0000 - kl_loss: 976317.6875 - val_loss_val: 274258304.0000 - val_MSE_val: 273242304.0000 - val_kl_loss_val: 1015993.3125\n",
      "Epoch 40/200\n",
      "101/101 [==============================] - 0s 3ms/step - loss: 282440317.0196 - MSE: 271866912.0000 - kl_loss: 861606.8125 - val_loss_val: 270816192.0000 - val_MSE_val: 269864096.0000 - val_kl_loss_val: 952091.8750\n",
      "Epoch 41/200\n",
      "101/101 [==============================] - 0s 3ms/step - loss: 281740373.1765 - MSE: 265375792.0000 - kl_loss: 971445.6250 - val_loss_val: 271977472.0000 - val_MSE_val: 270907584.0000 - val_kl_loss_val: 1069881.0000\n",
      "Epoch 42/200\n",
      "101/101 [==============================] - 0s 3ms/step - loss: 265458285.6471 - MSE: 263252800.0000 - kl_loss: 913289.1875 - val_loss_val: 262002176.0000 - val_MSE_val: 261137328.0000 - val_kl_loss_val: 864822.4375\n",
      "Epoch 43/200\n",
      "101/101 [==============================] - 0s 3ms/step - loss: 274935144.6275 - MSE: 262512960.0000 - kl_loss: 707752.3750 - val_loss_val: 268510976.0000 - val_MSE_val: 267585696.0000 - val_kl_loss_val: 925329.2500\n",
      "Epoch 44/200\n",
      "101/101 [==============================] - 0s 2ms/step - loss: 265627437.4902 - MSE: 257769328.0000 - kl_loss: 821638.8125 - val_loss_val: 256919456.0000 - val_MSE_val: 255926400.0000 - val_kl_loss_val: 993099.0000\n",
      "Epoch 45/200\n",
      "101/101 [==============================] - 0s 3ms/step - loss: 270874979.1373 - MSE: 258905376.0000 - kl_loss: 676819.5000 - val_loss_val: 256769136.0000 - val_MSE_val: 255982944.0000 - val_kl_loss_val: 786097.8125\n",
      "Epoch 46/200\n",
      "101/101 [==============================] - 0s 3ms/step - loss: 256456278.6275 - MSE: 254250976.0000 - kl_loss: 754856.8125 - val_loss_val: 255951200.0000 - val_MSE_val: 255077616.0000 - val_kl_loss_val: 873584.8125\n",
      "Epoch 47/200\n",
      "101/101 [==============================] - 0s 3ms/step - loss: 235129734.1176 - MSE: 255200000.0000 - kl_loss: 678440.5000 - val_loss_val: 251505840.0000 - val_MSE_val: 250916752.0000 - val_kl_loss_val: 589067.5625\n",
      "Epoch 48/200\n",
      "101/101 [==============================] - 0s 3ms/step - loss: 270656600.9412 - MSE: 248200240.0000 - kl_loss: 530846.9375 - val_loss_val: 249001328.0000 - val_MSE_val: 248350848.0000 - val_kl_loss_val: 650463.0625\n",
      "Epoch 49/200\n",
      "101/101 [==============================] - 0s 2ms/step - loss: 258327202.5098 - MSE: 244366304.0000 - kl_loss: 624285.3750 - val_loss_val: 244794944.0000 - val_MSE_val: 244020640.0000 - val_kl_loss_val: 774340.1875\n",
      "Epoch 50/200\n",
      "101/101 [==============================] - 0s 2ms/step - loss: 220130282.4020 - MSE: 242987760.0000 - kl_loss: 710968.6250 - val_loss_val: 243059088.0000 - val_MSE_val: 242350640.0000 - val_kl_loss_val: 708378.6875\n",
      "Epoch 51/200\n",
      "101/101 [==============================] - 0s 3ms/step - loss: 241397760.3137 - MSE: 245178720.0000 - kl_loss: 513406.6562 - val_loss_val: 238478896.0000 - val_MSE_val: 237940704.0000 - val_kl_loss_val: 538225.5625\n",
      "Epoch 52/200\n",
      "101/101 [==============================] - 0s 3ms/step - loss: 262867780.7059 - MSE: 239784288.0000 - kl_loss: 486301.3438 - val_loss_val: 234838528.0000 - val_MSE_val: 234287216.0000 - val_kl_loss_val: 551244.1875\n",
      "Epoch 53/200\n",
      "101/101 [==============================] - 0s 3ms/step - loss: 251057307.9216 - MSE: 236088496.0000 - kl_loss: 462185.0938 - val_loss_val: 232030240.0000 - val_MSE_val: 231558640.0000 - val_kl_loss_val: 471654.5312\n",
      "Epoch 54/200\n",
      "101/101 [==============================] - 0s 2ms/step - loss: 215820759.2157 - MSE: 232606592.0000 - kl_loss: 373801.4688 - val_loss_val: 229887680.0000 - val_MSE_val: 229421424.0000 - val_kl_loss_val: 466201.6875\n",
      "Epoch 55/200\n",
      "101/101 [==============================] - 0s 3ms/step - loss: 225662732.7059 - MSE: 226774976.0000 - kl_loss: 426168.4375 - val_loss_val: 234143840.0000 - val_MSE_val: 233643920.0000 - val_kl_loss_val: 499953.8438\n",
      "Epoch 56/200\n",
      "101/101 [==============================] - 0s 3ms/step - loss: 239727115.7647 - MSE: 224891936.0000 - kl_loss: 448216.9062 - val_loss_val: 224601920.0000 - val_MSE_val: 224153728.0000 - val_kl_loss_val: 448171.2812\n",
      "Epoch 57/200\n",
      "101/101 [==============================] - 0s 2ms/step - loss: 215584485.6471 - MSE: 220838608.0000 - kl_loss: 377862.1875 - val_loss_val: 222629392.0000 - val_MSE_val: 222211824.0000 - val_kl_loss_val: 417625.3125\n",
      "Epoch 58/200\n",
      "101/101 [==============================] - 0s 2ms/step - loss: 213589246.9020 - MSE: 215323840.0000 - kl_loss: 391731.3750 - val_loss_val: 221335424.0000 - val_MSE_val: 220848080.0000 - val_kl_loss_val: 487265.8750\n",
      "Epoch 59/200\n",
      "101/101 [==============================] - 0s 2ms/step - loss: 237642227.7647 - MSE: 212862240.0000 - kl_loss: 402181.7500 - val_loss_val: 213544704.0000 - val_MSE_val: 213124464.0000 - val_kl_loss_val: 420237.7188\n",
      "Epoch 60/200\n",
      "101/101 [==============================] - 0s 2ms/step - loss: 227594277.0196 - MSE: 205149168.0000 - kl_loss: 403846.1250 - val_loss_val: 207706128.0000 - val_MSE_val: 207223680.0000 - val_kl_loss_val: 482465.9688\n",
      "Epoch 61/200\n",
      "101/101 [==============================] - 0s 2ms/step - loss: 189556200.3137 - MSE: 202239072.0000 - kl_loss: 388400.3438 - val_loss_val: 207358032.0000 - val_MSE_val: 206989440.0000 - val_kl_loss_val: 368624.6250\n",
      "Epoch 62/200\n",
      "101/101 [==============================] - 0s 2ms/step - loss: 187713229.1765 - MSE: 197980592.0000 - kl_loss: 285869.3750 - val_loss_val: 201387920.0000 - val_MSE_val: 201069776.0000 - val_kl_loss_val: 318186.7188\n",
      "Epoch 63/200\n",
      "101/101 [==============================] - 0s 3ms/step - loss: 195769447.6667 - MSE: 195445744.0000 - kl_loss: 247551.3281 - val_loss_val: 193913312.0000 - val_MSE_val: 193625136.0000 - val_kl_loss_val: 288195.8125\n",
      "Epoch 64/200\n",
      "101/101 [==============================] - 0s 3ms/step - loss: 197809391.5294 - MSE: 194344656.0000 - kl_loss: 246355.6094 - val_loss_val: 189675312.0000 - val_MSE_val: 189453200.0000 - val_kl_loss_val: 222062.2969\n",
      "Epoch 65/200\n",
      "101/101 [==============================] - 0s 3ms/step - loss: 184276909.3333 - MSE: 187140608.0000 - kl_loss: 173011.7812 - val_loss_val: 187720400.0000 - val_MSE_val: 187507488.0000 - val_kl_loss_val: 212936.8125\n",
      "Epoch 66/200\n",
      "101/101 [==============================] - 0s 3ms/step - loss: 185271064.9412 - MSE: 180731984.0000 - kl_loss: 199347.2031 - val_loss_val: 184212992.0000 - val_MSE_val: 183978336.0000 - val_kl_loss_val: 234664.6719\n",
      "Epoch 67/200\n",
      "101/101 [==============================] - 0s 3ms/step - loss: 203339189.6471 - MSE: 178314464.0000 - kl_loss: 196641.2812 - val_loss_val: 183444384.0000 - val_MSE_val: 183236240.0000 - val_kl_loss_val: 208146.7812\n",
      "Epoch 68/200\n",
      "101/101 [==============================] - 0s 3ms/step - loss: 167675886.1961 - MSE: 177658160.0000 - kl_loss: 158507.8438 - val_loss_val: 174994944.0000 - val_MSE_val: 174827248.0000 - val_kl_loss_val: 167663.1406\n",
      "Epoch 69/200\n",
      "101/101 [==============================] - 0s 3ms/step - loss: 159588699.3725 - MSE: 172777648.0000 - kl_loss: 143965.2812 - val_loss_val: 172464992.0000 - val_MSE_val: 172295648.0000 - val_kl_loss_val: 169334.7500\n",
      "Epoch 70/200\n",
      "101/101 [==============================] - 0s 3ms/step - loss: 159225773.6471 - MSE: 168341488.0000 - kl_loss: 143381.5312 - val_loss_val: 170273536.0000 - val_MSE_val: 170101344.0000 - val_kl_loss_val: 172126.3438\n",
      "Epoch 71/200\n",
      "101/101 [==============================] - 0s 3ms/step - loss: 162262627.7647 - MSE: 165677024.0000 - kl_loss: 143800.3906 - val_loss_val: 167213376.0000 - val_MSE_val: 167056192.0000 - val_kl_loss_val: 157184.2812\n",
      "Epoch 72/200\n",
      "101/101 [==============================] - 0s 3ms/step - loss: 172285524.8627 - MSE: 163319696.0000 - kl_loss: 124629.6953 - val_loss_val: 165350288.0000 - val_MSE_val: 165210064.0000 - val_kl_loss_val: 140281.9844\n"
     ]
    },
    {
     "name": "stdout",
     "output_type": "stream",
     "text": [
      "Epoch 73/200\n",
      "101/101 [==============================] - 0s 3ms/step - loss: 151821335.6078 - MSE: 161397936.0000 - kl_loss: 114534.0234 - val_loss_val: 162561920.0000 - val_MSE_val: 162448576.0000 - val_kl_loss_val: 113348.5312\n",
      "Epoch 74/200\n",
      "101/101 [==============================] - 0s 3ms/step - loss: 139217591.9216 - MSE: 158987584.0000 - kl_loss: 94334.3203 - val_loss_val: 161502576.0000 - val_MSE_val: 161392064.0000 - val_kl_loss_val: 110459.7031\n",
      "Epoch 75/200\n",
      "101/101 [==============================] - 0s 3ms/step - loss: 177175649.2549 - MSE: 157477888.0000 - kl_loss: 95813.3984 - val_loss_val: 160911104.0000 - val_MSE_val: 160809072.0000 - val_kl_loss_val: 102064.5703\n",
      "Epoch 76/200\n",
      "101/101 [==============================] - 0s 3ms/step - loss: 154627557.5294 - MSE: 156441296.0000 - kl_loss: 79851.2812 - val_loss_val: 159976784.0000 - val_MSE_val: 159884720.0000 - val_kl_loss_val: 92045.0078\n",
      "Epoch 77/200\n",
      "101/101 [==============================] - 0s 3ms/step - loss: 165148949.1765 - MSE: 154219440.0000 - kl_loss: 78869.4609 - val_loss_val: 157711808.0000 - val_MSE_val: 157620288.0000 - val_kl_loss_val: 91491.8750\n",
      "Epoch 78/200\n",
      "101/101 [==============================] - 0s 3ms/step - loss: 166726624.2353 - MSE: 153677840.0000 - kl_loss: 77885.8750 - val_loss_val: 157176944.0000 - val_MSE_val: 157094656.0000 - val_kl_loss_val: 82251.4609\n",
      "Epoch 79/200\n",
      "101/101 [==============================] - 0s 3ms/step - loss: 147106838.4314 - MSE: 154793728.0000 - kl_loss: 68129.2422 - val_loss_val: 156754000.0000 - val_MSE_val: 156684512.0000 - val_kl_loss_val: 69459.5781\n",
      "Epoch 80/200\n",
      "101/101 [==============================] - 0s 3ms/step - loss: 158255632.7059 - MSE: 151557888.0000 - kl_loss: 58385.5742 - val_loss_val: 155832832.0000 - val_MSE_val: 155771680.0000 - val_kl_loss_val: 61147.6758\n",
      "Epoch 81/200\n",
      "101/101 [==============================] - 0s 3ms/step - loss: 161637259.9216 - MSE: 151318528.0000 - kl_loss: 52653.4258 - val_loss_val: 155306080.0000 - val_MSE_val: 155247408.0000 - val_kl_loss_val: 58694.8672\n",
      "Epoch 82/200\n",
      "101/101 [==============================] - 0s 3ms/step - loss: 139236282.8235 - MSE: 150062896.0000 - kl_loss: 50342.8281 - val_loss_val: 155246112.0000 - val_MSE_val: 155186800.0000 - val_kl_loss_val: 59298.3203\n",
      "Epoch 83/200\n",
      "101/101 [==============================] - 0s 3ms/step - loss: 144619688.7059 - MSE: 150918080.0000 - kl_loss: 51503.0195 - val_loss_val: 155317072.0000 - val_MSE_val: 155259120.0000 - val_kl_loss_val: 57937.3086\n",
      "Epoch 84/200\n",
      "101/101 [==============================] - 0s 3ms/step - loss: 123508997.4902 - MSE: 150569744.0000 - kl_loss: 46639.6484 - val_loss_val: 155007936.0000 - val_MSE_val: 154956160.0000 - val_kl_loss_val: 51789.1602\n",
      "Epoch 85/200\n",
      "101/101 [==============================] - 0s 2ms/step - loss: 154575318.9020 - MSE: 148950928.0000 - kl_loss: 47366.3633 - val_loss_val: 154597392.0000 - val_MSE_val: 154545488.0000 - val_kl_loss_val: 51903.4141\n",
      "Epoch 86/200\n",
      "101/101 [==============================] - 0s 2ms/step - loss: 141196225.1765 - MSE: 149847312.0000 - kl_loss: 44049.6094 - val_loss_val: 154904720.0000 - val_MSE_val: 154855296.0000 - val_kl_loss_val: 49389.2812\n",
      "Epoch 87/200\n",
      "101/101 [==============================] - 0s 2ms/step - loss: 143838723.2157 - MSE: 150630624.0000 - kl_loss: 39359.8555 - val_loss_val: 154986752.0000 - val_MSE_val: 154942272.0000 - val_kl_loss_val: 44494.9727\n",
      "Epoch 88/200\n",
      "101/101 [==============================] - 0s 2ms/step - loss: 150638848.0784 - MSE: 148568560.0000 - kl_loss: 39122.8867 - val_loss_val: 154788272.0000 - val_MSE_val: 154743088.0000 - val_kl_loss_val: 45169.1602\n",
      "Epoch 89/200\n",
      "101/101 [==============================] - 0s 2ms/step - loss: 166669717.6471 - MSE: 148071056.0000 - kl_loss: 39234.2070 - val_loss_val: 154615424.0000 - val_MSE_val: 154572176.0000 - val_kl_loss_val: 43285.0078\n",
      "Epoch 90/200\n",
      "101/101 [==============================] - 0s 2ms/step - loss: 135883384.0000 - MSE: 148799760.0000 - kl_loss: 36403.3086 - val_loss_val: 154221600.0000 - val_MSE_val: 154180496.0000 - val_kl_loss_val: 41101.1641\n",
      "Epoch 91/200\n",
      "101/101 [==============================] - 0s 3ms/step - loss: 157833400.3137 - MSE: 149190592.0000 - kl_loss: 35344.0859 - val_loss_val: 154157888.0000 - val_MSE_val: 154118688.0000 - val_kl_loss_val: 39107.0859\n",
      "Epoch 92/200\n",
      "101/101 [==============================] - 0s 3ms/step - loss: 134478745.8235 - MSE: 148235856.0000 - kl_loss: 33010.2383 - val_loss_val: 154285808.0000 - val_MSE_val: 154246848.0000 - val_kl_loss_val: 38994.3516\n",
      "Epoch 93/200\n",
      "101/101 [==============================] - 0s 3ms/step - loss: 148817499.4510 - MSE: 148609136.0000 - kl_loss: 33642.9375 - val_loss_val: 154058816.0000 - val_MSE_val: 154021104.0000 - val_kl_loss_val: 37681.0781\n",
      "Epoch 94/200\n",
      "101/101 [==============================] - 0s 3ms/step - loss: 136175706.5882 - MSE: 147424048.0000 - kl_loss: 32854.3594 - val_loss_val: 153984256.0000 - val_MSE_val: 153947520.0000 - val_kl_loss_val: 36744.3203\n",
      "Epoch 95/200\n",
      "101/101 [==============================] - 0s 3ms/step - loss: 151459045.2549 - MSE: 149033280.0000 - kl_loss: 30272.2949 - val_loss_val: 153713344.0000 - val_MSE_val: 153679856.0000 - val_kl_loss_val: 33480.8945\n",
      "Epoch 96/200\n",
      "101/101 [==============================] - 0s 3ms/step - loss: 142287133.0196 - MSE: 148845264.0000 - kl_loss: 27679.3184 - val_loss_val: 153522704.0000 - val_MSE_val: 153491792.0000 - val_kl_loss_val: 30934.5449\n",
      "Epoch 97/200\n",
      "101/101 [==============================] - 0s 3ms/step - loss: 141627537.5686 - MSE: 148625136.0000 - kl_loss: 27187.9473 - val_loss_val: 153292032.0000 - val_MSE_val: 153262016.0000 - val_kl_loss_val: 30042.5312\n",
      "Epoch 98/200\n",
      "101/101 [==============================] - 0s 3ms/step - loss: 135881048.0392 - MSE: 146759392.0000 - kl_loss: 25787.7500 - val_loss_val: 153436864.0000 - val_MSE_val: 153408768.0000 - val_kl_loss_val: 28075.4395\n",
      "Epoch 99/200\n",
      "101/101 [==============================] - 0s 3ms/step - loss: 165853716.2353 - MSE: 146343056.0000 - kl_loss: 25005.5684 - val_loss_val: 153087824.0000 - val_MSE_val: 153061072.0000 - val_kl_loss_val: 26731.3438\n",
      "Epoch 100/200\n",
      "101/101 [==============================] - 0s 3ms/step - loss: 149598268.9412 - MSE: 147301552.0000 - kl_loss: 23103.4512 - val_loss_val: 153308880.0000 - val_MSE_val: 153283184.0000 - val_kl_loss_val: 25708.7461\n",
      "Epoch 101/200\n",
      "101/101 [==============================] - 0s 3ms/step - loss: 154911786.9804 - MSE: 146712912.0000 - kl_loss: 23420.5117 - val_loss_val: 153084704.0000 - val_MSE_val: 153059152.0000 - val_kl_loss_val: 25499.8672\n",
      "Epoch 102/200\n",
      "101/101 [==============================] - 0s 3ms/step - loss: 157095452.2353 - MSE: 146659520.0000 - kl_loss: 22328.4570 - val_loss_val: 152927120.0000 - val_MSE_val: 152902256.0000 - val_kl_loss_val: 24844.6758\n",
      "Epoch 103/200\n",
      "101/101 [==============================] - 0s 3ms/step - loss: 146146918.5882 - MSE: 146594272.0000 - kl_loss: 21375.4238 - val_loss_val: 152820032.0000 - val_MSE_val: 152796304.0000 - val_kl_loss_val: 23756.0059\n",
      "Epoch 104/200\n",
      "101/101 [==============================] - 0s 3ms/step - loss: 150374685.0196 - MSE: 147379520.0000 - kl_loss: 21997.1309 - val_loss_val: 152783920.0000 - val_MSE_val: 152760384.0000 - val_kl_loss_val: 23513.8438\n",
      "Epoch 105/200\n",
      "101/101 [==============================] - 0s 3ms/step - loss: 149782939.2941 - MSE: 146819072.0000 - kl_loss: 20618.5547 - val_loss_val: 152451984.0000 - val_MSE_val: 152429776.0000 - val_kl_loss_val: 22224.6680\n",
      "Epoch 106/200\n",
      "101/101 [==============================] - 0s 3ms/step - loss: 132821201.7255 - MSE: 146065136.0000 - kl_loss: 19187.5215 - val_loss_val: 152655568.0000 - val_MSE_val: 152633984.0000 - val_kl_loss_val: 21598.0195\n",
      "Epoch 107/200\n",
      "101/101 [==============================] - 0s 3ms/step - loss: 141844457.0980 - MSE: 145811792.0000 - kl_loss: 18594.7422 - val_loss_val: 152510640.0000 - val_MSE_val: 152489488.0000 - val_kl_loss_val: 21139.3066\n",
      "Epoch 108/200\n",
      "101/101 [==============================] - 0s 3ms/step - loss: 147147912.1569 - MSE: 145742720.0000 - kl_loss: 18842.4121 - val_loss_val: 152411872.0000 - val_MSE_val: 152390784.0000 - val_kl_loss_val: 21073.9160\n",
      "Epoch 109/200\n"
     ]
    },
    {
     "name": "stdout",
     "output_type": "stream",
     "text": [
      "101/101 [==============================] - 0s 3ms/step - loss: 152842342.6667 - MSE: 145718976.0000 - kl_loss: 18202.5938 - val_loss_val: 152338048.0000 - val_MSE_val: 152318096.0000 - val_kl_loss_val: 19956.9355\n",
      "Epoch 110/200\n",
      "101/101 [==============================] - 0s 3ms/step - loss: 144554165.7255 - MSE: 146955760.0000 - kl_loss: 18023.2637 - val_loss_val: 152215264.0000 - val_MSE_val: 152195440.0000 - val_kl_loss_val: 19805.9082\n",
      "Epoch 111/200\n",
      "101/101 [==============================] - 0s 3ms/step - loss: 137398174.3529 - MSE: 146058880.0000 - kl_loss: 17088.3359 - val_loss_val: 152114144.0000 - val_MSE_val: 152095328.0000 - val_kl_loss_val: 18810.5781\n",
      "Epoch 112/200\n",
      "101/101 [==============================] - 0s 3ms/step - loss: 153321157.4118 - MSE: 145822224.0000 - kl_loss: 16945.1602 - val_loss_val: 152038320.0000 - val_MSE_val: 152019424.0000 - val_kl_loss_val: 18919.1895\n",
      "Epoch 113/200\n",
      "101/101 [==============================] - 0s 3ms/step - loss: 133188559.9216 - MSE: 144181152.0000 - kl_loss: 15850.7930 - val_loss_val: 151904976.0000 - val_MSE_val: 151887088.0000 - val_kl_loss_val: 17819.6621\n",
      "Epoch 114/200\n",
      "101/101 [==============================] - 0s 3ms/step - loss: 147958348.3137 - MSE: 144953392.0000 - kl_loss: 16240.6846 - val_loss_val: 151937056.0000 - val_MSE_val: 151919472.0000 - val_kl_loss_val: 17566.2461\n",
      "Epoch 115/200\n",
      "101/101 [==============================] - 0s 2ms/step - loss: 150130738.9804 - MSE: 145787472.0000 - kl_loss: 16001.7373 - val_loss_val: 151914976.0000 - val_MSE_val: 151897936.0000 - val_kl_loss_val: 17018.8027\n",
      "Epoch 116/200\n",
      "101/101 [==============================] - 0s 3ms/step - loss: 146638661.6863 - MSE: 144704352.0000 - kl_loss: 15241.4258 - val_loss_val: 151813248.0000 - val_MSE_val: 151796688.0000 - val_kl_loss_val: 16494.4023\n",
      "Epoch 117/200\n",
      "101/101 [==============================] - 0s 2ms/step - loss: 134358614.0392 - MSE: 145924080.0000 - kl_loss: 14710.5088 - val_loss_val: 151704896.0000 - val_MSE_val: 151688640.0000 - val_kl_loss_val: 16241.7148\n",
      "Epoch 118/200\n",
      "101/101 [==============================] - 0s 3ms/step - loss: 147672430.3333 - MSE: 145230128.0000 - kl_loss: 14455.0967 - val_loss_val: 151669632.0000 - val_MSE_val: 151654064.0000 - val_kl_loss_val: 15638.6309\n",
      "Epoch 119/200\n",
      "101/101 [==============================] - 0s 3ms/step - loss: 135027068.1569 - MSE: 144869664.0000 - kl_loss: 13887.1094 - val_loss_val: 151604048.0000 - val_MSE_val: 151588688.0000 - val_kl_loss_val: 15351.7041\n",
      "Epoch 120/200\n",
      "101/101 [==============================] - 0s 3ms/step - loss: 136482363.2941 - MSE: 144212720.0000 - kl_loss: 13828.6846 - val_loss_val: 151472656.0000 - val_MSE_val: 151457696.0000 - val_kl_loss_val: 14996.6045\n",
      "Epoch 121/200\n",
      "101/101 [==============================] - 0s 2ms/step - loss: 142869935.8431 - MSE: 144749008.0000 - kl_loss: 13893.7178 - val_loss_val: 151570160.0000 - val_MSE_val: 151555088.0000 - val_kl_loss_val: 15037.8799\n",
      "Epoch 122/200\n",
      "101/101 [==============================] - 0s 3ms/step - loss: 133808551.0588 - MSE: 145250000.0000 - kl_loss: 13038.9873 - val_loss_val: 151461504.0000 - val_MSE_val: 151447296.0000 - val_kl_loss_val: 14239.6650\n",
      "Epoch 123/200\n",
      "101/101 [==============================] - 0s 3ms/step - loss: 152842244.7059 - MSE: 144827984.0000 - kl_loss: 13158.8779 - val_loss_val: 151351184.0000 - val_MSE_val: 151337424.0000 - val_kl_loss_val: 13714.4268\n",
      "Epoch 124/200\n",
      "101/101 [==============================] - 0s 3ms/step - loss: 148075422.1176 - MSE: 144690624.0000 - kl_loss: 12262.0820 - val_loss_val: 151242400.0000 - val_MSE_val: 151228896.0000 - val_kl_loss_val: 13499.0088\n",
      "Epoch 125/200\n",
      "101/101 [==============================] - 0s 3ms/step - loss: 156162126.2745 - MSE: 144885056.0000 - kl_loss: 12466.6885 - val_loss_val: 151255376.0000 - val_MSE_val: 151242336.0000 - val_kl_loss_val: 13022.6553\n",
      "Epoch 126/200\n",
      "101/101 [==============================] - 0s 3ms/step - loss: 173843522.5098 - MSE: 144776896.0000 - kl_loss: 12308.6396 - val_loss_val: 151187680.0000 - val_MSE_val: 151174992.0000 - val_kl_loss_val: 12709.4414\n",
      "Epoch 127/200\n",
      "101/101 [==============================] - 0s 3ms/step - loss: 152856518.1176 - MSE: 144429760.0000 - kl_loss: 12078.4277 - val_loss_val: 151157760.0000 - val_MSE_val: 151144928.0000 - val_kl_loss_val: 12860.7744\n",
      "Epoch 128/200\n",
      "101/101 [==============================] - 0s 3ms/step - loss: 147639505.1765 - MSE: 144308496.0000 - kl_loss: 11634.6904 - val_loss_val: 151062720.0000 - val_MSE_val: 151050592.0000 - val_kl_loss_val: 12160.9004\n",
      "Epoch 129/200\n",
      "101/101 [==============================] - 0s 3ms/step - loss: 162673788.0784 - MSE: 144000944.0000 - kl_loss: 11739.0000 - val_loss_val: 151028912.0000 - val_MSE_val: 151016624.0000 - val_kl_loss_val: 12262.4619\n",
      "Epoch 130/200\n",
      "101/101 [==============================] - 0s 2ms/step - loss: 153931097.5686 - MSE: 144231248.0000 - kl_loss: 11219.8330 - val_loss_val: 151010176.0000 - val_MSE_val: 150998192.0000 - val_kl_loss_val: 11998.0957\n",
      "Epoch 131/200\n",
      "101/101 [==============================] - 0s 3ms/step - loss: 135566678.2745 - MSE: 143790352.0000 - kl_loss: 11190.5078 - val_loss_val: 151002384.0000 - val_MSE_val: 150990192.0000 - val_kl_loss_val: 12184.2393\n",
      "Epoch 132/200\n",
      "101/101 [==============================] - 0s 3ms/step - loss: 133687128.9804 - MSE: 144637536.0000 - kl_loss: 11106.9600 - val_loss_val: 150938592.0000 - val_MSE_val: 150926528.0000 - val_kl_loss_val: 12052.2812\n",
      "Epoch 133/200\n",
      "101/101 [==============================] - 0s 3ms/step - loss: 150201473.4118 - MSE: 143751568.0000 - kl_loss: 11310.5010 - val_loss_val: 150970112.0000 - val_MSE_val: 150958192.0000 - val_kl_loss_val: 11947.1562\n",
      "Epoch 134/200\n",
      "101/101 [==============================] - 0s 3ms/step - loss: 130701764.3922 - MSE: 144176864.0000 - kl_loss: 10677.6348 - val_loss_val: 150895680.0000 - val_MSE_val: 150884176.0000 - val_kl_loss_val: 11561.7568\n",
      "Epoch 135/200\n",
      "101/101 [==============================] - 0s 3ms/step - loss: 143949742.5098 - MSE: 143175632.0000 - kl_loss: 10996.7900 - val_loss_val: 150860688.0000 - val_MSE_val: 150849152.0000 - val_kl_loss_val: 11518.4277\n",
      "Epoch 136/200\n",
      "101/101 [==============================] - 0s 2ms/step - loss: 139987922.5882 - MSE: 144027472.0000 - kl_loss: 10587.4688 - val_loss_val: 150814752.0000 - val_MSE_val: 150803472.0000 - val_kl_loss_val: 11270.8379\n",
      "Epoch 137/200\n",
      "101/101 [==============================] - 0s 3ms/step - loss: 134014360.2353 - MSE: 143397664.0000 - kl_loss: 10445.2070 - val_loss_val: 150733472.0000 - val_MSE_val: 150722384.0000 - val_kl_loss_val: 11081.0049\n",
      "Epoch 138/200\n",
      "101/101 [==============================] - 0s 3ms/step - loss: 148620863.3725 - MSE: 143939568.0000 - kl_loss: 10463.8809 - val_loss_val: 150764128.0000 - val_MSE_val: 150753152.0000 - val_kl_loss_val: 10979.1885\n",
      "Epoch 139/200\n",
      "101/101 [==============================] - 0s 3ms/step - loss: 125672811.8431 - MSE: 143295488.0000 - kl_loss: 9977.7822 - val_loss_val: 150675488.0000 - val_MSE_val: 150664944.0000 - val_kl_loss_val: 10518.6738\n",
      "Epoch 140/200\n",
      "101/101 [==============================] - 0s 3ms/step - loss: 130582125.0196 - MSE: 144413504.0000 - kl_loss: 9984.6895 - val_loss_val: 150668672.0000 - val_MSE_val: 150658224.0000 - val_kl_loss_val: 10458.0625\n",
      "Epoch 141/200\n",
      "101/101 [==============================] - 0s 3ms/step - loss: 151303903.2157 - MSE: 143912064.0000 - kl_loss: 9931.5840 - val_loss_val: 150558176.0000 - val_MSE_val: 150547792.0000 - val_kl_loss_val: 10343.1562\n",
      "Epoch 142/200\n",
      "101/101 [==============================] - 0s 3ms/step - loss: 151698089.4118 - MSE: 143985680.0000 - kl_loss: 10081.5312 - val_loss_val: 150578816.0000 - val_MSE_val: 150568656.0000 - val_kl_loss_val: 10175.2168\n",
      "Epoch 143/200\n",
      "101/101 [==============================] - 0s 3ms/step - loss: 149802746.6667 - MSE: 143162016.0000 - kl_loss: 9747.8340 - val_loss_val: 150622272.0000 - val_MSE_val: 150612320.0000 - val_kl_loss_val: 9971.2412\n",
      "Epoch 144/200\n",
      "101/101 [==============================] - 0s 3ms/step - loss: 137691224.7059 - MSE: 143752128.0000 - kl_loss: 9303.4912 - val_loss_val: 150492864.0000 - val_MSE_val: 150483040.0000 - val_kl_loss_val: 9865.4902\n",
      "Epoch 145/200\n"
     ]
    },
    {
     "name": "stdout",
     "output_type": "stream",
     "text": [
      "101/101 [==============================] - 0s 3ms/step - loss: 154382042.9804 - MSE: 144187952.0000 - kl_loss: 9692.2158 - val_loss_val: 150554560.0000 - val_MSE_val: 150544640.0000 - val_kl_loss_val: 9955.0361\n",
      "Epoch 146/200\n",
      "101/101 [==============================] - 0s 3ms/step - loss: 146822659.1373 - MSE: 143720656.0000 - kl_loss: 9632.9590 - val_loss_val: 150452736.0000 - val_MSE_val: 150443040.0000 - val_kl_loss_val: 9698.3408\n",
      "Epoch 147/200\n",
      "101/101 [==============================] - 0s 3ms/step - loss: 145523341.8824 - MSE: 144352544.0000 - kl_loss: 9250.1465 - val_loss_val: 150400320.0000 - val_MSE_val: 150390768.0000 - val_kl_loss_val: 9572.4600\n",
      "Epoch 148/200\n",
      "101/101 [==============================] - 0s 3ms/step - loss: 137665579.8431 - MSE: 144295792.0000 - kl_loss: 9368.9863 - val_loss_val: 150418400.0000 - val_MSE_val: 150408992.0000 - val_kl_loss_val: 9451.3604\n",
      "Epoch 149/200\n",
      "101/101 [==============================] - 0s 3ms/step - loss: 144813317.0980 - MSE: 143266416.0000 - kl_loss: 9151.4971 - val_loss_val: 150400416.0000 - val_MSE_val: 150390880.0000 - val_kl_loss_val: 9547.0732\n",
      "Epoch 150/200\n",
      "101/101 [==============================] - 0s 3ms/step - loss: 148988845.8039 - MSE: 144624240.0000 - kl_loss: 9253.6514 - val_loss_val: 150369200.0000 - val_MSE_val: 150359968.0000 - val_kl_loss_val: 9217.3184\n",
      "Epoch 151/200\n",
      "101/101 [==============================] - 0s 3ms/step - loss: 143749643.4510 - MSE: 143858592.0000 - kl_loss: 8935.4150 - val_loss_val: 150310800.0000 - val_MSE_val: 150301824.0000 - val_kl_loss_val: 9010.3213\n",
      "Epoch 152/200\n",
      "101/101 [==============================] - 0s 3ms/step - loss: 152814861.6471 - MSE: 144775984.0000 - kl_loss: 8785.8857 - val_loss_val: 150328864.0000 - val_MSE_val: 150319952.0000 - val_kl_loss_val: 8969.5342\n",
      "Epoch 153/200\n",
      "101/101 [==============================] - 0s 3ms/step - loss: 151401162.9020 - MSE: 142606832.0000 - kl_loss: 8907.4375 - val_loss_val: 150301232.0000 - val_MSE_val: 150292384.0000 - val_kl_loss_val: 8834.8408\n",
      "Epoch 154/200\n",
      "101/101 [==============================] - 0s 2ms/step - loss: 145086131.1373 - MSE: 143271744.0000 - kl_loss: 8601.2549 - val_loss_val: 150267968.0000 - val_MSE_val: 150259120.0000 - val_kl_loss_val: 8857.7080\n",
      "Epoch 155/200\n",
      "101/101 [==============================] - 0s 2ms/step - loss: 155155742.1176 - MSE: 143791392.0000 - kl_loss: 8673.5498 - val_loss_val: 150220048.0000 - val_MSE_val: 150211344.0000 - val_kl_loss_val: 8727.5752\n",
      "Epoch 156/200\n",
      "101/101 [==============================] - 0s 2ms/step - loss: 148953064.5490 - MSE: 143529408.0000 - kl_loss: 8519.0293 - val_loss_val: 150184784.0000 - val_MSE_val: 150176048.0000 - val_kl_loss_val: 8723.1455\n",
      "Epoch 157/200\n",
      "101/101 [==============================] - 0s 2ms/step - loss: 133179640.4706 - MSE: 143728000.0000 - kl_loss: 8276.9658 - val_loss_val: 150199008.0000 - val_MSE_val: 150190384.0000 - val_kl_loss_val: 8664.7812\n",
      "Epoch 158/200\n",
      "101/101 [==============================] - 0s 2ms/step - loss: 150212804.9412 - MSE: 141691840.0000 - kl_loss: 8523.0674 - val_loss_val: 150203536.0000 - val_MSE_val: 150194832.0000 - val_kl_loss_val: 8675.0186\n",
      "Epoch 159/200\n",
      "101/101 [==============================] - 0s 2ms/step - loss: 161644826.9804 - MSE: 143795824.0000 - kl_loss: 8466.5771 - val_loss_val: 150118576.0000 - val_MSE_val: 150110048.0000 - val_kl_loss_val: 8487.7656\n",
      "Epoch 160/200\n",
      "101/101 [==============================] - 0s 3ms/step - loss: 127130377.9608 - MSE: 143312704.0000 - kl_loss: 8221.7422 - val_loss_val: 150197536.0000 - val_MSE_val: 150189008.0000 - val_kl_loss_val: 8546.0059\n",
      "Epoch 161/200\n",
      "101/101 [==============================] - 0s 2ms/step - loss: 135485098.5098 - MSE: 143582256.0000 - kl_loss: 8239.0010 - val_loss_val: 150175408.0000 - val_MSE_val: 150166912.0000 - val_kl_loss_val: 8519.6768\n",
      "Epoch 162/200\n",
      "101/101 [==============================] - 0s 2ms/step - loss: 130979428.5490 - MSE: 144024528.0000 - kl_loss: 8030.3652 - val_loss_val: 150138608.0000 - val_MSE_val: 150130336.0000 - val_kl_loss_val: 8273.8389\n",
      "Epoch 163/200\n",
      "101/101 [==============================] - 0s 2ms/step - loss: 143911281.8039 - MSE: 142513664.0000 - kl_loss: 8189.4795 - val_loss_val: 150166608.0000 - val_MSE_val: 150158240.0000 - val_kl_loss_val: 8370.0596\n",
      "Epoch 164/200\n",
      "101/101 [==============================] - 0s 2ms/step - loss: 127892388.1569 - MSE: 143476016.0000 - kl_loss: 8084.3579 - val_loss_val: 150106048.0000 - val_MSE_val: 150097760.0000 - val_kl_loss_val: 8279.3008\n",
      "Epoch 165/200\n",
      "101/101 [==============================] - 0s 2ms/step - loss: 139381746.8627 - MSE: 143908784.0000 - kl_loss: 8034.3838 - val_loss_val: 150055424.0000 - val_MSE_val: 150047248.0000 - val_kl_loss_val: 8169.9395\n",
      "Epoch 166/200\n",
      "101/101 [==============================] - 0s 2ms/step - loss: 140300528.0784 - MSE: 142561408.0000 - kl_loss: 7998.8569 - val_loss_val: 150076688.0000 - val_MSE_val: 150068736.0000 - val_kl_loss_val: 7932.1914\n",
      "Epoch 167/200\n",
      "101/101 [==============================] - 0s 4ms/step - loss: 140672660.3137 - MSE: 142916608.0000 - kl_loss: 7886.9111 - val_loss_val: 149996048.0000 - val_MSE_val: 149988048.0000 - val_kl_loss_val: 8058.6719\n",
      "Epoch 168/200\n",
      "101/101 [==============================] - 0s 3ms/step - loss: 143155765.1373 - MSE: 142624176.0000 - kl_loss: 7896.1592 - val_loss_val: 149998288.0000 - val_MSE_val: 149990400.0000 - val_kl_loss_val: 7893.9253\n",
      "Epoch 169/200\n",
      "101/101 [==============================] - 0s 3ms/step - loss: 125382815.4902 - MSE: 142879120.0000 - kl_loss: 7621.4307 - val_loss_val: 150032496.0000 - val_MSE_val: 150024624.0000 - val_kl_loss_val: 7893.0850\n",
      "Epoch 170/200\n",
      "101/101 [==============================] - 0s 3ms/step - loss: 142310679.0588 - MSE: 143921664.0000 - kl_loss: 7638.8457 - val_loss_val: 149958976.0000 - val_MSE_val: 149951264.0000 - val_kl_loss_val: 7722.5596\n",
      "Epoch 171/200\n",
      "101/101 [==============================] - 0s 3ms/step - loss: 151854922.9020 - MSE: 141615328.0000 - kl_loss: 7696.0376 - val_loss_val: 150039040.0000 - val_MSE_val: 150031216.0000 - val_kl_loss_val: 7841.7549\n",
      "Epoch 172/200\n",
      "101/101 [==============================] - 0s 3ms/step - loss: 136990425.8431 - MSE: 143368400.0000 - kl_loss: 7637.6895 - val_loss_val: 150095648.0000 - val_MSE_val: 150087808.0000 - val_kl_loss_val: 7853.6733\n",
      "Epoch 173/200\n",
      "101/101 [==============================] - 0s 3ms/step - loss: 130828070.4314 - MSE: 143264496.0000 - kl_loss: 7595.9795 - val_loss_val: 149972256.0000 - val_MSE_val: 149964496.0000 - val_kl_loss_val: 7751.5801\n",
      "Epoch 174/200\n",
      "101/101 [==============================] - 0s 3ms/step - loss: 149375657.4118 - MSE: 141640544.0000 - kl_loss: 7805.8179 - val_loss_val: 150012432.0000 - val_MSE_val: 150004688.0000 - val_kl_loss_val: 7721.6030\n",
      "Epoch 175/200\n",
      "101/101 [==============================] - 0s 3ms/step - loss: 137708487.3333 - MSE: 142847520.0000 - kl_loss: 7509.6807 - val_loss_val: 149920000.0000 - val_MSE_val: 149912400.0000 - val_kl_loss_val: 7597.5122\n",
      "Epoch 176/200\n",
      "101/101 [==============================] - 0s 3ms/step - loss: 138214668.8627 - MSE: 142595584.0000 - kl_loss: 7377.7100 - val_loss_val: 149891776.0000 - val_MSE_val: 149884256.0000 - val_kl_loss_val: 7515.1528\n",
      "Epoch 177/200\n",
      "101/101 [==============================] - 0s 3ms/step - loss: 140381495.2941 - MSE: 142635968.0000 - kl_loss: 7378.5332 - val_loss_val: 149898064.0000 - val_MSE_val: 149890640.0000 - val_kl_loss_val: 7419.3848\n",
      "Epoch 178/200\n",
      "101/101 [==============================] - 0s 3ms/step - loss: 132149699.6078 - MSE: 143280064.0000 - kl_loss: 7340.1504 - val_loss_val: 149911136.0000 - val_MSE_val: 149903664.0000 - val_kl_loss_val: 7475.7822\n",
      "Epoch 179/200\n",
      "101/101 [==============================] - 0s 3ms/step - loss: 138782927.0588 - MSE: 143799168.0000 - kl_loss: 7306.5190 - val_loss_val: 149848528.0000 - val_MSE_val: 149841152.0000 - val_kl_loss_val: 7353.8823\n",
      "Epoch 180/200\n",
      "101/101 [==============================] - 0s 3ms/step - loss: 152511113.4118 - MSE: 142382224.0000 - kl_loss: 7317.9453 - val_loss_val: 149803424.0000 - val_MSE_val: 149796176.0000 - val_kl_loss_val: 7264.4136\n",
      "Epoch 181/200\n"
     ]
    },
    {
     "name": "stdout",
     "output_type": "stream",
     "text": [
      "101/101 [==============================] - 0s 3ms/step - loss: 136894840.2745 - MSE: 142137280.0000 - kl_loss: 7197.7681 - val_loss_val: 149816944.0000 - val_MSE_val: 149809632.0000 - val_kl_loss_val: 7257.1792\n",
      "Epoch 182/200\n",
      "101/101 [==============================] - 0s 2ms/step - loss: 146769832.3922 - MSE: 142702336.0000 - kl_loss: 7242.1504 - val_loss_val: 149835680.0000 - val_MSE_val: 149828400.0000 - val_kl_loss_val: 7271.8472\n",
      "Epoch 183/200\n",
      "101/101 [==============================] - 0s 2ms/step - loss: 145422791.6078 - MSE: 143446480.0000 - kl_loss: 7184.5645 - val_loss_val: 149770848.0000 - val_MSE_val: 149763632.0000 - val_kl_loss_val: 7180.7256\n",
      "Epoch 184/200\n",
      "101/101 [==============================] - 0s 2ms/step - loss: 141424385.3333 - MSE: 142864176.0000 - kl_loss: 7076.8735 - val_loss_val: 149850928.0000 - val_MSE_val: 149843728.0000 - val_kl_loss_val: 7199.1606\n",
      "Epoch 185/200\n",
      "101/101 [==============================] - 0s 3ms/step - loss: 142500690.7451 - MSE: 142778400.0000 - kl_loss: 7107.2246 - val_loss_val: 149794512.0000 - val_MSE_val: 149787408.0000 - val_kl_loss_val: 7091.9038\n",
      "Epoch 186/200\n",
      "101/101 [==============================] - 0s 3ms/step - loss: 155392096.7843 - MSE: 142390976.0000 - kl_loss: 7078.7588 - val_loss_val: 149759760.0000 - val_MSE_val: 149752720.0000 - val_kl_loss_val: 7009.2900\n",
      "Epoch 187/200\n",
      "101/101 [==============================] - 0s 3ms/step - loss: 131494853.8824 - MSE: 142639856.0000 - kl_loss: 6810.5049 - val_loss_val: 149702448.0000 - val_MSE_val: 149695440.0000 - val_kl_loss_val: 6972.5449\n",
      "Epoch 188/200\n",
      "101/101 [==============================] - 0s 3ms/step - loss: 131714030.1961 - MSE: 142201088.0000 - kl_loss: 6931.9219 - val_loss_val: 149786816.0000 - val_MSE_val: 149779840.0000 - val_kl_loss_val: 7020.8647\n",
      "Epoch 189/200\n",
      "101/101 [==============================] - 0s 3ms/step - loss: 134314917.1765 - MSE: 142650752.0000 - kl_loss: 7013.7295 - val_loss_val: 149798784.0000 - val_MSE_val: 149791760.0000 - val_kl_loss_val: 7017.0977\n",
      "Epoch 190/200\n",
      "101/101 [==============================] - 0s 2ms/step - loss: 140216663.9216 - MSE: 143076784.0000 - kl_loss: 6978.9800 - val_loss_val: 149722976.0000 - val_MSE_val: 149716080.0000 - val_kl_loss_val: 6929.4512\n",
      "Epoch 191/200\n",
      "101/101 [==============================] - 0s 3ms/step - loss: 153300439.6863 - MSE: 143166896.0000 - kl_loss: 6906.7266 - val_loss_val: 149759264.0000 - val_MSE_val: 149752368.0000 - val_kl_loss_val: 6904.4844\n",
      "Epoch 192/200\n",
      "101/101 [==============================] - 0s 3ms/step - loss: 161851654.2745 - MSE: 143073968.0000 - kl_loss: 6992.7969 - val_loss_val: 149724336.0000 - val_MSE_val: 149717472.0000 - val_kl_loss_val: 6869.9849\n",
      "Epoch 193/200\n",
      "101/101 [==============================] - 0s 3ms/step - loss: 144269179.4510 - MSE: 142849088.0000 - kl_loss: 6808.6694 - val_loss_val: 149684144.0000 - val_MSE_val: 149677296.0000 - val_kl_loss_val: 6869.4072\n",
      "Epoch 194/200\n",
      "101/101 [==============================] - 0s 3ms/step - loss: 161182148.7059 - MSE: 141657184.0000 - kl_loss: 6902.5586 - val_loss_val: 149689296.0000 - val_MSE_val: 149682432.0000 - val_kl_loss_val: 6839.4995\n",
      "Epoch 195/200\n",
      "101/101 [==============================] - 0s 3ms/step - loss: 140788286.1569 - MSE: 141985536.0000 - kl_loss: 6793.7910 - val_loss_val: 149633888.0000 - val_MSE_val: 149627152.0000 - val_kl_loss_val: 6792.7798\n",
      "Epoch 196/200\n",
      "101/101 [==============================] - 0s 3ms/step - loss: 139317196.6275 - MSE: 143326000.0000 - kl_loss: 6777.0513 - val_loss_val: 149649904.0000 - val_MSE_val: 149643088.0000 - val_kl_loss_val: 6802.2168\n",
      "Epoch 197/200\n",
      "101/101 [==============================] - 0s 3ms/step - loss: 136087536.8627 - MSE: 143555568.0000 - kl_loss: 6778.0068 - val_loss_val: 149645136.0000 - val_MSE_val: 149638384.0000 - val_kl_loss_val: 6762.6616\n",
      "Epoch 198/200\n",
      "101/101 [==============================] - 0s 4ms/step - loss: 148813909.8039 - MSE: 143906352.0000 - kl_loss: 6691.5327 - val_loss_val: 149608192.0000 - val_MSE_val: 149601504.0000 - val_kl_loss_val: 6703.0386\n",
      "Epoch 199/200\n",
      "101/101 [==============================] - 0s 3ms/step - loss: 141652623.2941 - MSE: 142535776.0000 - kl_loss: 6708.4033 - val_loss_val: 149667600.0000 - val_MSE_val: 149660768.0000 - val_kl_loss_val: 6814.6309\n",
      "Epoch 200/200\n",
      "101/101 [==============================] - 0s 3ms/step - loss: 144596792.1569 - MSE: 143195232.0000 - kl_loss: 6694.6323 - val_loss_val: 149652432.0000 - val_MSE_val: 149645792.0000 - val_kl_loss_val: 6670.3218\n"
     ]
    }
   ],
   "source": [
    "history = vae.fit(X_train, y_train, validation_data=(X_test, y_test), epochs=150, batch_size=8 )"
   ]
  },
  {
   "cell_type": "code",
   "execution_count": 211,
   "metadata": {},
   "outputs": [],
   "source": [
    "samp_num = 1"
   ]
  },
  {
   "cell_type": "code",
   "execution_count": null,
   "metadata": {},
   "outputs": [],
   "source": []
  },
  {
   "cell_type": "code",
   "execution_count": 212,
   "metadata": {
    "scrolled": true
   },
   "outputs": [
    {
     "name": "stdout",
     "output_type": "stream",
     "text": [
      "dict_keys(['loss', 'MSE', 'kl_loss', 'val_loss_val', 'val_MSE_val', 'val_kl_loss_val'])\n"
     ]
    }
   ],
   "source": [
    "print(history.history.keys())"
   ]
  },
  {
   "cell_type": "code",
   "execution_count": 213,
   "metadata": {},
   "outputs": [
    {
     "data": {
      "text/plain": [
       "[<matplotlib.lines.Line2D at 0x2a400fbbb20>]"
      ]
     },
     "execution_count": 213,
     "metadata": {},
     "output_type": "execute_result"
    },
    {
     "data": {
      "image/png": "[encoded data removed]",
      "text/plain": [
       "<Figure size 1440x720 with 1 Axes>"
      ]
     },
     "metadata": {
      "needs_background": "light"
     },
     "output_type": "display_data"
    }
   ],
   "source": [
    "plt.plot(history.history['MSE'])\n"
   ]
  },
  {
   "cell_type": "code",
   "execution_count": 214,
   "metadata": {},
   "outputs": [
    {
     "data": {
      "image/png": "[encoded data removed]",
      "text/plain": [
       "<Figure size 1440x720 with 1 Axes>"
      ]
     },
     "metadata": {
      "needs_background": "light"
     },
     "output_type": "display_data"
    }
   ],
   "source": [
    "plt.plot(history.history['kl_loss'])\n",
    "#plt.plot(history.history['val_total_loss'])\n",
    "plt.title('model loss Train')\n",
    "plt.ylabel('accuracy')\n",
    "plt.xlabel('epoch')\n",
    "plt.plot(history.history['MSE'])\n",
    "plt.legend(['KL_loss', 'MSE'], loc='upper right', fontsize ='xx-large')\n",
    "plt.show()\n"
   ]
  },
  {
   "cell_type": "code",
   "execution_count": 215,
   "metadata": {},
   "outputs": [
    {
     "data": {
      "image/png": "[encoded data removed]",
      "text/plain": [
       "<Figure size 1440x720 with 1 Axes>"
      ]
     },
     "metadata": {
      "needs_background": "light"
     },
     "output_type": "display_data"
    }
   ],
   "source": [
    "# summarize history for accuracy\n",
    "plt.plot(history.history['MSE'])\n",
    "#plt.plot(history.history['val_total_loss'])\n",
    "plt.title('model loss')\n",
    "plt.ylabel('accuracy')\n",
    "plt.xlabel('epoch')\n",
    "plt.plot(history.history['val_MSE_val'])\n",
    "\n",
    "plt.legend(['train', 'test'], loc='upper right', fontsize ='xx-large')\n",
    "plt.show()\n"
   ]
  },
  {
   "cell_type": "code",
   "execution_count": 216,
   "metadata": {},
   "outputs": [
    {
     "ename": "IndexError",
     "evalue": "tuple index out of range",
     "output_type": "error",
     "traceback": [
      "\u001b[1;31m---------------------------------------------------------------------------\u001b[0m",
      "\u001b[1;31mIndexError\u001b[0m                                Traceback (most recent call last)",
      "\u001b[1;32mC:\\Users\\A50022~1\\AppData\\Local\\Temp/ipykernel_6880/547247176.py\u001b[0m in \u001b[0;36m<module>\u001b[1;34m\u001b[0m\n\u001b[0;32m     22\u001b[0m     \u001b[1;32mreturn\u001b[0m \u001b[0mnum\u001b[0m\u001b[1;33m.\u001b[0m\u001b[0mnumpy\u001b[0m\u001b[1;33m(\u001b[0m\u001b[1;33m)\u001b[0m\u001b[1;33m\u001b[0m\u001b[1;33m\u001b[0m\u001b[0m\n\u001b[0;32m     23\u001b[0m \u001b[1;33m\u001b[0m\u001b[0m\n\u001b[1;32m---> 24\u001b[1;33m \u001b[0mprint\u001b[0m\u001b[1;33m(\u001b[0m\u001b[1;34m'NRMSE'\u001b[0m\u001b[1;33m,\u001b[0m \u001b[0mnrmse\u001b[0m\u001b[1;33m(\u001b[0m\u001b[0mvae\u001b[0m\u001b[1;33m.\u001b[0m\u001b[0mpredict\u001b[0m\u001b[1;33m(\u001b[0m\u001b[0mX_test\u001b[0m\u001b[1;33m)\u001b[0m\u001b[1;33m,\u001b[0m \u001b[0my_test\u001b[0m\u001b[1;33m.\u001b[0m\u001b[0mnumpy\u001b[0m\u001b[1;33m(\u001b[0m\u001b[1;33m)\u001b[0m\u001b[1;33m)\u001b[0m\u001b[1;33m)\u001b[0m\u001b[1;33m\u001b[0m\u001b[1;33m\u001b[0m\u001b[0m\n\u001b[0m\u001b[0;32m     25\u001b[0m \u001b[0mprint\u001b[0m\u001b[1;33m(\u001b[0m\u001b[1;34m'MAE'\u001b[0m\u001b[1;33m,\u001b[0m \u001b[0mmae\u001b[0m\u001b[1;33m(\u001b[0m\u001b[0mvae\u001b[0m\u001b[1;33m.\u001b[0m\u001b[0mpredict\u001b[0m\u001b[1;33m(\u001b[0m\u001b[0mX_test\u001b[0m\u001b[1;33m)\u001b[0m\u001b[1;33m,\u001b[0m \u001b[0my_test\u001b[0m\u001b[1;33m.\u001b[0m\u001b[0mnumpy\u001b[0m\u001b[1;33m(\u001b[0m\u001b[1;33m)\u001b[0m\u001b[1;33m)\u001b[0m\u001b[1;33m)\u001b[0m\u001b[1;33m\u001b[0m\u001b[1;33m\u001b[0m\u001b[0m\n\u001b[0;32m     26\u001b[0m \u001b[0mprint\u001b[0m\u001b[1;33m(\u001b[0m\u001b[1;34m'RMSE'\u001b[0m\u001b[1;33m,\u001b[0m \u001b[0mmath\u001b[0m\u001b[1;33m.\u001b[0m\u001b[0msqrt\u001b[0m\u001b[1;33m(\u001b[0m\u001b[0mmse\u001b[0m\u001b[1;33m(\u001b[0m\u001b[0mvae\u001b[0m\u001b[1;33m.\u001b[0m\u001b[0mpredict\u001b[0m\u001b[1;33m(\u001b[0m\u001b[0mX_test\u001b[0m\u001b[1;33m)\u001b[0m\u001b[1;33m,\u001b[0m \u001b[0my_test\u001b[0m\u001b[1;33m.\u001b[0m\u001b[0mnumpy\u001b[0m\u001b[1;33m(\u001b[0m\u001b[1;33m)\u001b[0m\u001b[1;33m)\u001b[0m\u001b[1;33m)\u001b[0m\u001b[1;33m)\u001b[0m\u001b[1;33m\u001b[0m\u001b[1;33m\u001b[0m\u001b[0m\n",
      "\u001b[1;32mC:\\Users\\A50022~1\\AppData\\Local\\Temp/ipykernel_6880/547247176.py\u001b[0m in \u001b[0;36mnrmse\u001b[1;34m(y_pred, y_test)\u001b[0m\n\u001b[0;32m      2\u001b[0m \u001b[1;33m\u001b[0m\u001b[0m\n\u001b[0;32m      3\u001b[0m     \u001b[0mnum\u001b[0m \u001b[1;33m=\u001b[0m \u001b[0mtf\u001b[0m\u001b[1;33m.\u001b[0m\u001b[0mmath\u001b[0m\u001b[1;33m.\u001b[0m\u001b[0mreduce_sum\u001b[0m\u001b[1;33m(\u001b[0m\u001b[0mtf\u001b[0m\u001b[1;33m.\u001b[0m\u001b[0msquare\u001b[0m\u001b[1;33m(\u001b[0m\u001b[0my_pred\u001b[0m \u001b[1;33m-\u001b[0m \u001b[0my_test\u001b[0m\u001b[1;33m)\u001b[0m\u001b[1;33m)\u001b[0m\u001b[1;33m\u001b[0m\u001b[1;33m\u001b[0m\u001b[0m\n\u001b[1;32m----> 4\u001b[1;33m     \u001b[0mnum\u001b[0m \u001b[1;33m=\u001b[0m \u001b[0mnum\u001b[0m \u001b[1;33m/\u001b[0m \u001b[0my_test\u001b[0m\u001b[1;33m.\u001b[0m\u001b[0mshape\u001b[0m\u001b[1;33m[\u001b[0m\u001b[1;36m1\u001b[0m\u001b[1;33m]\u001b[0m\u001b[1;33m\u001b[0m\u001b[1;33m\u001b[0m\u001b[0m\n\u001b[0m\u001b[0;32m      5\u001b[0m \u001b[1;33m\u001b[0m\u001b[0m\n\u001b[0;32m      6\u001b[0m     \u001b[0mden\u001b[0m \u001b[1;33m=\u001b[0m \u001b[0mtf\u001b[0m\u001b[1;33m.\u001b[0m\u001b[0mmath\u001b[0m\u001b[1;33m.\u001b[0m\u001b[0mreduce_sum\u001b[0m\u001b[1;33m(\u001b[0m\u001b[0mtf\u001b[0m\u001b[1;33m.\u001b[0m\u001b[0msquare\u001b[0m\u001b[1;33m(\u001b[0m\u001b[0my_test\u001b[0m\u001b[1;33m)\u001b[0m\u001b[1;33m)\u001b[0m\u001b[1;33m/\u001b[0m\u001b[0my_test\u001b[0m\u001b[1;33m.\u001b[0m\u001b[0mshape\u001b[0m\u001b[1;33m[\u001b[0m\u001b[1;36m1\u001b[0m\u001b[1;33m]\u001b[0m\u001b[1;33m\u001b[0m\u001b[1;33m\u001b[0m\u001b[0m\n",
      "\u001b[1;31mIndexError\u001b[0m: tuple index out of range"
     ]
    }
   ],
   "source": [
    "def nrmse(y_pred, y_test):\n",
    "    \n",
    "    num = tf.math.reduce_sum(tf.square(y_pred - y_test))\n",
    "    num = num / y_test.shape[1]\n",
    "    \n",
    "    den = tf.math.reduce_sum(tf.square(y_test))/y_test.shape[1]\n",
    "    \n",
    "    return (num/den).numpy()\n",
    "\n",
    "def mse(y_pred, y_test):\n",
    "    \n",
    "    num = tf.math.reduce_sum(tf.square(y_pred - y_test))\n",
    "    num = num / y_test.shape[1]\n",
    "    \n",
    "    return num.numpy()\n",
    "\n",
    "def mae(y_pred, y_test):\n",
    "    \n",
    "    num = tf.math.reduce_sum(tf.abs(y_pred - y_test))\n",
    "    num = num / y_test.shape[1]\n",
    "    \n",
    "    return num.numpy()\n",
    "\n",
    "print('NRMSE', nrmse(vae.predict(X_test), y_test.numpy()))\n",
    "print('MAE', mae(vae.predict(X_test), y_test.numpy()))\n",
    "print('RMSE', math.sqrt(mse(vae.predict(X_test), y_test.numpy())))\n",
    "print('MSE', mse(vae.predict(X_test), y_test.numpy()))\n"
   ]
  },
  {
   "cell_type": "code",
   "execution_count": null,
   "metadata": {},
   "outputs": [],
   "source": []
  },
  {
   "cell_type": "code",
   "execution_count": 217,
   "metadata": {},
   "outputs": [
    {
     "data": {
      "text/plain": [
       "<matplotlib.collections.PathCollection at 0x2a4032d4fd0>"
      ]
     },
     "execution_count": 217,
     "metadata": {},
     "output_type": "execute_result"
    },
    {
     "data": {
      "image/png": "[encoded data removed]",
      "text/plain": [
       "<Figure size 1440x720 with 1 Axes>"
      ]
     },
     "metadata": {
      "needs_background": "light"
     },
     "output_type": "display_data"
    }
   ],
   "source": [
    "plt.scatter(vae.predict(X_test)[:], y_test[:])"
   ]
  },
  {
   "cell_type": "code",
   "execution_count": 218,
   "metadata": {},
   "outputs": [
    {
     "data": {
      "text/plain": [
       "[<matplotlib.lines.Line2D at 0x2a40332cc40>]"
      ]
     },
     "execution_count": 218,
     "metadata": {},
     "output_type": "execute_result"
    },
    {
     "data": {
      "image/png": "[encoded data removed]",
      "text/plain": [
       "<Figure size 1440x720 with 1 Axes>"
      ]
     },
     "metadata": {
      "needs_background": "light"
     },
     "output_type": "display_data"
    }
   ],
   "source": [
    "plt.plot(np.sort(y_test[:].numpy()))\n",
    "plt.plot(vae.predict(X_test)[:][np.argsort(y_test[:].numpy())])"
   ]
  },
  {
   "cell_type": "code",
   "execution_count": null,
   "metadata": {},
   "outputs": [],
   "source": [
    "vae.predict(X_test)"
   ]
  },
  {
   "cell_type": "code",
   "execution_count": null,
   "metadata": {},
   "outputs": [],
   "source": [
    "y_test[:].numpy()"
   ]
  },
  {
   "cell_type": "code",
   "execution_count": null,
   "metadata": {},
   "outputs": [],
   "source": []
  },
  {
   "cell_type": "code",
   "execution_count": null,
   "metadata": {},
   "outputs": [],
   "source": []
  },
  {
   "cell_type": "code",
   "execution_count": null,
   "metadata": {},
   "outputs": [],
   "source": []
  },
  {
   "cell_type": "code",
   "execution_count": null,
   "metadata": {},
   "outputs": [],
   "source": []
  },
  {
   "cell_type": "code",
   "execution_count": null,
   "metadata": {},
   "outputs": [],
   "source": []
  },
  {
   "cell_type": "code",
   "execution_count": null,
   "metadata": {},
   "outputs": [],
   "source": []
  },
  {
   "cell_type": "code",
   "execution_count": null,
   "metadata": {},
   "outputs": [],
   "source": []
  },
  {
   "cell_type": "code",
   "execution_count": null,
   "metadata": {},
   "outputs": [],
   "source": []
  },
  {
   "cell_type": "code",
   "execution_count": null,
   "metadata": {},
   "outputs": [],
   "source": []
  }
 ],
 "metadata": {
  "colab": {
   "collapsed_sections": [],
   "name": "VAE_Playground.ipynb",
   "provenance": []
  },
  "kernelspec": {
   "display_name": "Python 3 (ipykernel)",
   "language": "python",
   "name": "python3"
  },
  "language_info": {
   "codemirror_mode": {
    "name": "ipython",
    "version": 3
   },
   "file_extension": ".py",
   "mimetype": "text/x-python",
   "name": "python",
   "nbconvert_exporter": "python",
   "pygments_lexer": "ipython3",
   "version": "3.9.7"
  }
 },
 "nbformat": 4,
 "nbformat_minor": 1
}
