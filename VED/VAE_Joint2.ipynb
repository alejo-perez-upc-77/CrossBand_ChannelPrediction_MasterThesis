{
 "cells": [
  {
   "cell_type": "code",
   "execution_count": 1,
   "metadata": {
    "executionInfo": {
     "elapsed": 3927,
     "status": "ok",
     "timestamp": 1648563758560,
     "user": {
      "displayName": "Alejo P",
      "userId": "15450393507389467183"
     },
     "user_tz": -120
    },
    "id": "lI2rd-RhQokY"
   },
   "outputs": [],
   "source": [
    "from tensorflow.keras.utils import plot_model\n",
    "import visualkeras\n",
    "import numpy as np\n",
    "import pandas as  pd\n",
    "import tensorflow as tf\n",
    "from tensorflow import keras\n",
    "from tensorflow.keras import layers\n",
    "from sklearn import *\n",
    "import matplotlib.pyplot as plt\n",
    "import math\n",
    "plt.rcParams[\"figure.figsize\"] = (20,10)\n",
    "\n",
    "def m2tex(model,modelName):\n",
    "    stringlist = []\n",
    "    model.summary(line_length=70, print_fn=lambda x: stringlist.append(x))\n",
    "    del stringlist[1:-4:2]\n",
    "    del stringlist[-1]\n",
    "    for ix in range(1,len(stringlist)-3):\n",
    "        tmp = stringlist[ix]\n",
    "        stringlist[ix] = tmp[0:31]+\"& \"+tmp[31:59]+\"& \"+tmp[59:]+\"\\\\\\\\ \\hline\"\n",
    "    stringlist[0] = \"Model: {} \\\\\\\\ \\hline\".format(modelName)\n",
    "    stringlist[1] = stringlist[1]+\" \\hline\"\n",
    "    stringlist[-4] += \" \\hline\"\n",
    "    stringlist[-3] += \" \\\\\\\\\"\n",
    "    stringlist[-2] += \" \\\\\\\\\"\n",
    "    stringlist[-1] += \" \\\\\\\\ \\hline\"\n",
    "    prefix = [\"\\\\begin{table}[]\", \"\\\\begin{tabular}{lll}\"]\n",
    "    suffix = [\"\\end{tabular}\", \"\\caption{{Model summary for {}.}}\".format(modelName), \"\\label{tab:model-summary}\" , \"\\end{table}\"]\n",
    "    stringlist = prefix + stringlist + suffix \n",
    "    out_str = \" \\n\".join(stringlist)\n",
    "    out_str = out_str.replace(\"_\", \"\\_\")\n",
    "    out_str = out_str.replace(\"#\", \"\\#\")\n",
    "    print(out_str)\n"
   ]
  },
  {
   "cell_type": "markdown",
   "metadata": {
    "id": "teKTnzbD2-D9"
   },
   "source": [
    "## Import Data\n"
   ]
  },
  {
   "cell_type": "code",
   "execution_count": 2,
   "metadata": {
    "executionInfo": {
     "elapsed": 5048,
     "status": "ok",
     "timestamp": 1648563836307,
     "user": {
      "displayName": "Alejo P",
      "userId": "15450393507389467183"
     },
     "user_tz": -120
    },
    "id": "2bSV7m0PoPi1"
   },
   "outputs": [],
   "source": [
    "X_train = pd.read_csv(\"../Baseline/data2UEjoint/X_train_joint.csv\", index_col=0)\n",
    "y_train = pd.read_csv(\"../Baseline/data2UEjoint/y_train_joint.csv\", index_col=0)\n",
    "\n",
    "X_test = pd.read_csv(\"../Baseline/data2UEjoint/X_valid_joint.csv\", index_col=0)\n",
    "y_test = pd.read_csv(\"../Baseline/data2UEjoint/y_valid_joint.csv\", index_col=0)\n"
   ]
  },
  {
   "cell_type": "code",
   "execution_count": null,
   "metadata": {},
   "outputs": [],
   "source": []
  },
  {
   "cell_type": "code",
   "execution_count": 3,
   "metadata": {},
   "outputs": [
    {
     "name": "stdout",
     "output_type": "stream",
     "text": [
      "(708, 1280)\n",
      "(708, 3840)\n",
      "(472, 1280)\n",
      "(472, 3840)\n"
     ]
    }
   ],
   "source": [
    "print(X_train.shape)\n",
    "print(y_train.shape)\n",
    "print(X_test.shape)\n",
    "print(y_test.shape)"
   ]
  },
  {
   "cell_type": "code",
   "execution_count": 4,
   "metadata": {},
   "outputs": [],
   "source": [
    "X_train = (X_train.to_numpy())\n",
    "X_test = (X_test.to_numpy())\n",
    "y_train = (y_train.to_numpy())\n",
    "y_test = (y_test.to_numpy())"
   ]
  },
  {
   "cell_type": "code",
   "execution_count": 5,
   "metadata": {},
   "outputs": [],
   "source": [
    "from sklearn import preprocessing\n",
    "scaler = preprocessing.StandardScaler().fit(X_train)\n",
    "X_train_esc = scaler.transform(X_train)\n",
    "X_test_esc = scaler.transform(X_test)"
   ]
  },
  {
   "cell_type": "markdown",
   "metadata": {
    "id": "Z3hj8-Ir4jwu"
   },
   "source": [
    "## Create a sampling layer\n"
   ]
  },
  {
   "cell_type": "code",
   "execution_count": 6,
   "metadata": {
    "executionInfo": {
     "elapsed": 8,
     "status": "ok",
     "timestamp": 1648563836309,
     "user": {
      "displayName": "Alejo P",
      "userId": "15450393507389467183"
     },
     "user_tz": -120
    },
    "id": "E1nDJk0ZTQk6"
   },
   "outputs": [],
   "source": [
    "class Sampling(layers.Layer):\n",
    "    \"\"\"Uses (z_mean, z_log_var) to sample z, the vector encoding a digit.\"\"\"\n",
    "\n",
    "    def call(self, inputs):\n",
    "        z_mean, z_log_var = inputs\n",
    "        batch = tf.shape(z_mean)[0]\n",
    "        dim = tf.shape(z_mean)[1]\n",
    "        epsilon = tf.keras.backend.random_normal(shape=(batch, dim))\n",
    "        return z_mean + tf.exp(0.5 * z_log_var) * epsilon"
   ]
  },
  {
   "cell_type": "markdown",
   "metadata": {
    "id": "pI0KPRY64u5W"
   },
   "source": [
    "## Build the encoder\n"
   ]
  },
  {
   "cell_type": "code",
   "execution_count": 9,
   "metadata": {
    "colab": {
     "base_uri": "https://localhost:8080/"
    },
    "executionInfo": {
     "elapsed": 12,
     "status": "ok",
     "timestamp": 1648563859799,
     "user": {
      "displayName": "Alejo P",
      "userId": "15450393507389467183"
     },
     "user_tz": -120
    },
    "id": "py1ZMO_dTQvf",
    "outputId": "b0edcf1c-d2cd-4788-f981-c04df76c2622"
   },
   "outputs": [
    {
     "name": "stdout",
     "output_type": "stream",
     "text": [
      "Model: \"encoder\"\n",
      "__________________________________________________________________________________________________\n",
      " Layer (type)                   Output Shape         Param #     Connected to                     \n",
      "==================================================================================================\n",
      " input_2 (InputLayer)           [(None, 1280)]       0           []                               \n",
      "                                                                                                  \n",
      " dense (Dense)                  (None, 309)          395829      ['input_2[0][0]']                \n",
      "                                                                                                  \n",
      " z_mean (Dense)                 (None, 100)          31000       ['dense[0][0]']                  \n",
      "                                                                                                  \n",
      " z_log_var (Dense)              (None, 100)          31000       ['dense[0][0]']                  \n",
      "                                                                                                  \n",
      " sampling_1 (Sampling)          (None, 100)          0           ['z_mean[0][0]',                 \n",
      "                                                                  'z_log_var[0][0]']              \n",
      "                                                                                                  \n",
      "==================================================================================================\n",
      "Total params: 457,829\n",
      "Trainable params: 457,829\n",
      "Non-trainable params: 0\n",
      "__________________________________________________________________________________________________\n"
     ]
    }
   ],
   "source": [
    "latent_dim = 100 # Latent Space dimension on the bottleneck\n",
    "input_dim = X_train.shape[1]\n",
    "Leaky_ReLu = keras.layers.LeakyReLU(alpha=0.01)\n",
    "\n",
    "encoder_inputs = keras.Input(shape=( input_dim, ))\n",
    "x = layers.Dense(309, activation=Leaky_ReLu)(encoder_inputs)\n",
    "\n",
    "z_mean = layers.Dense(latent_dim, name=\"z_mean\")(x)\n",
    "z_log_var = layers.Dense(latent_dim, name=\"z_log_var\")(x)\n",
    "z = Sampling()([z_mean, z_log_var])\n",
    "encoder = keras.Model(encoder_inputs, [z_mean, z_log_var, z], name=\"encoder\")\n",
    "encoder.summary()"
   ]
  },
  {
   "cell_type": "code",
   "execution_count": 10,
   "metadata": {
    "colab": {
     "base_uri": "https://localhost:8080/",
     "height": 754
    },
    "executionInfo": {
     "elapsed": 7,
     "status": "ok",
     "timestamp": 1648563864250,
     "user": {
      "displayName": "Alejo P",
      "userId": "15450393507389467183"
     },
     "user_tz": -120
    },
    "id": "50ieXcxa-3sH",
    "outputId": "36cbd098-5224-4fbd-880f-01bbfce25d0a"
   },
   "outputs": [
    {
     "data": {
      "image/png": "[encoded data removed]",
      "text/plain": [
       "<IPython.core.display.Image object>"
      ]
     },
     "execution_count": 10,
     "metadata": {},
     "output_type": "execute_result"
    }
   ],
   "source": [
    "from keras.utils.vis_utils import plot_model\n",
    "keras.utils.plot_model(encoder, to_file='encoder.png')"
   ]
  },
  {
   "cell_type": "code",
   "execution_count": 11,
   "metadata": {},
   "outputs": [
    {
     "name": "stdout",
     "output_type": "stream",
     "text": [
      "\\begin{table}[] \n",
      "\\begin{tabular}{lll} \n",
      "Model: encoder \\\\ \\hline \n",
      " Layer (type)          Output S& hape   Param   Connected to &            \\\\ \\hline \\hline \n",
      "===============================& ============================& ===========\\\\ \\hline \n",
      "                       ]       &                             &            \\\\ \\hline \n",
      " dense (Dense)         (None, 3& 09)    395829  ['input\\_2[0][& 0]']       \\\\ \\hline \n",
      " z\\_mean (Dense)        (None, 1& 00)    31000   ['dense[0][0]& ']         \\\\ \\hline \n",
      " z\\_log\\_var (Dense)     (None, 1& 00)    31000   ['dense[0][0]& ']         \\\\ \\hline \n",
      " sampling\\_1 (Sampling)  (None, & 100)   0       ['z\\_mean[0][0& ]',        \\\\ \\hline \n",
      "                               &                             &            \\\\ \\hline \\hline \n",
      "Total params: 457,829 \\\\ \n",
      "Trainable params: 457,829 \\\\ \n",
      "Non-trainable params: 0 \\\\ \\hline \n",
      "\\end{tabular} \n",
      "\\caption{Model summary for encoder.} \n",
      "\\label{tab:model-summary} \n",
      "\\end{table}\n"
     ]
    }
   ],
   "source": [
    "m2tex(encoder, 'encoder')"
   ]
  },
  {
   "cell_type": "markdown",
   "metadata": {
    "id": "XJbKTtFq-62-"
   },
   "source": [
    "## Build the decoder\n"
   ]
  },
  {
   "cell_type": "code",
   "execution_count": 25,
   "metadata": {
    "colab": {
     "base_uri": "https://localhost:8080/"
    },
    "executionInfo": {
     "elapsed": 542,
     "status": "ok",
     "timestamp": 1648567712061,
     "user": {
      "displayName": "Alejo P",
      "userId": "15450393507389467183"
     },
     "user_tz": -120
    },
    "id": "C0yQgBs9TQ3X",
    "outputId": "6c2bb351-e2e7-4d5a-b834-28c00f709eed"
   },
   "outputs": [
    {
     "name": "stdout",
     "output_type": "stream",
     "text": [
      "Model: \"decoder\"\n",
      "_________________________________________________________________\n",
      " Layer (type)                Output Shape              Param #   \n",
      "=================================================================\n",
      " input_4 (InputLayer)        [(None, 100)]             0         \n",
      "                                                                 \n",
      " dense_4 (Dense)             (None, 600)               60600     \n",
      "                                                                 \n",
      " dense_5 (Dense)             (None, 3840)              2307840   \n",
      "                                                                 \n",
      "=================================================================\n",
      "Total params: 2,368,440\n",
      "Trainable params: 2,368,440\n",
      "Non-trainable params: 0\n",
      "_________________________________________________________________\n"
     ]
    }
   ],
   "source": [
    "latent_inputs = keras.Input(shape=(latent_dim,))\n",
    "x = layers.Dense(300,  activation=Leaky_ReLu)(latent_inputs)\n",
    "x = layers.Dense(600,  activation=Leaky_ReLu)(latent_inputs)\n",
    "\n",
    "decoder_outputs = layers.Dense(input_dim * 3, activation=\"linear\")(x)\n",
    "decoder = keras.Model(latent_inputs, decoder_outputs, name=\"decoder\")\n",
    "decoder.summary()"
   ]
  },
  {
   "cell_type": "code",
   "execution_count": 26,
   "metadata": {
    "colab": {
     "base_uri": "https://localhost:8080/",
     "height": 644
    },
    "executionInfo": {
     "elapsed": 890,
     "status": "ok",
     "timestamp": 1648567730470,
     "user": {
      "displayName": "Alejo P",
      "userId": "15450393507389467183"
     },
     "user_tz": -120
    },
    "id": "aMenD_-Oa8sK",
    "outputId": "33f41c7f-8e8c-46e0-c029-4463ae9865c8"
   },
   "outputs": [
    {
     "data": {
      "image/png": "[encoded data removed]",
      "text/plain": [
       "<IPython.core.display.Image object>"
      ]
     },
     "execution_count": 26,
     "metadata": {},
     "output_type": "execute_result"
    }
   ],
   "source": [
    "plot_model(decoder,  show_shapes=True, show_layer_names=True)"
   ]
  },
  {
   "cell_type": "code",
   "execution_count": 27,
   "metadata": {},
   "outputs": [
    {
     "name": "stdout",
     "output_type": "stream",
     "text": [
      "\\begin{table}[] \n",
      "\\begin{tabular}{lll} \n",
      "Model: decoder \\\\ \\hline \n",
      " Layer (type)                  & Output Shape                & Param \\#    \\\\ \\hline \\hline \n",
      " input\\_4 (InputLayer)          & [(None, 100)]               & 0          \\\\ \\hline \n",
      " dense\\_4 (Dense)               & (None, 600)                 & 60600      \\\\ \\hline \n",
      " dense\\_5 (Dense)               & (None, 3840)                & 2307840    \\\\ \\hline \n",
      "===============================& ============================& ===========\\\\ \\hline \\hline \n",
      "Total params: 2,368,440 \\\\ \n",
      "Trainable params: 2,368,440 \\\\ \n",
      "Non-trainable params: 0 \\\\ \\hline \n",
      "\\end{tabular} \n",
      "\\caption{Model summary for decoder.} \n",
      "\\label{tab:model-summary} \n",
      "\\end{table}\n"
     ]
    }
   ],
   "source": [
    "m2tex(decoder, 'decoder')"
   ]
  },
  {
   "cell_type": "markdown",
   "metadata": {
    "id": "BqUfUjkeXZcQ"
   },
   "source": [
    "## Define the VAE as a Model with a custom train_step\n"
   ]
  },
  {
   "cell_type": "code",
   "execution_count": 28,
   "metadata": {
    "executionInfo": {
     "elapsed": 426,
     "status": "ok",
     "timestamp": 1648569160987,
     "user": {
      "displayName": "Alejo P",
      "userId": "15450393507389467183"
     },
     "user_tz": -120
    },
    "id": "Wxk76mbHSzof"
   },
   "outputs": [],
   "source": [
    "class VAE(keras.Model):\n",
    "    def __init__(self, encoder, decoder, KL_hyperparam, **kwargs):\n",
    "        super(VAE, self).__init__(**kwargs)\n",
    "        self.KL_hyperparam = KL_hyperparam\n",
    "        self.encoder = encoder\n",
    "        self.decoder = decoder\n",
    "        self.total_loss_tracker = keras.metrics.Mean(name=\"total_loss\")  #MEAN? \n",
    "        self.reconstruction_loss_tracker = keras.metrics.Mean(    #MEAN? \n",
    "            name=\"MSE\"\n",
    "        )\n",
    "        self.kl_loss_tracker = keras.metrics.Mean(name=\"kl_loss\")   #MEAN? \n",
    "        \n",
    "        self.total_loss_tracker_val = keras.metrics.Mean(name=\"total_loss_val\")  #MEAN? \n",
    "        self.reconstruction_loss_tracker_val = keras.metrics.Mean(    #MEAN? \n",
    "            name=\"MSE_val\"\n",
    "        )\n",
    "        self.kl_loss_tracker_val = keras.metrics.Mean(name=\"kl_loss_val\")   #MEAN? \n",
    "\n",
    "    @property\n",
    "    def metrics(self):\n",
    "        return [\n",
    "            self.total_loss_tracker,\n",
    "            self.reconstruction_loss_tracker,\n",
    "            self.kl_loss_tracker,\n",
    "            \n",
    "            self.total_loss_tracker_val,\n",
    "            self.reconstruction_loss_tracker_val,\n",
    "            self.kl_loss_tracker_val\n",
    "        ]\n",
    "\n",
    "    def train_step(self, data):\n",
    "        x, y_true = data\n",
    "        with tf.GradientTape() as tape:\n",
    "            z_mean, z_log_var, z = self.encoder(x)\n",
    "            reconstruction = self.decoder(z)\n",
    "            reconstruction_loss = keras.losses.mean_squared_error(y_true, reconstruction)\n",
    "            \n",
    "            kl_loss = -0.5 * (1 + z_log_var - tf.square(z_mean) - tf.exp(z_log_var))\n",
    "            kl_loss = tf.reduce_mean(tf.reduce_sum(kl_loss, axis=1))\n",
    "            #kl_loss = tf.reduce_mean(kl_loss, axis=1)\n",
    "            \n",
    "            total_loss = reconstruction_loss + kl_loss * self.KL_hyperparam\n",
    "            \n",
    "        grads = tape.gradient(total_loss, self.trainable_weights)\n",
    "        self.optimizer.apply_gradients(zip(grads, self.trainable_weights))\n",
    "        \n",
    "        self.total_loss_tracker.update_state(total_loss)\n",
    "        \n",
    "        self.reconstruction_loss_tracker.update_state(reconstruction_loss)\n",
    "        \n",
    "        self.kl_loss_tracker.update_state(kl_loss)\n",
    "        \n",
    "        return {\n",
    "            \"loss\": self.total_loss_tracker.result(),\n",
    "            \"MSE\": self.reconstruction_loss_tracker.result(),\n",
    "            \"kl_loss\": self.kl_loss_tracker.result(),\n",
    "        }\n",
    "\n",
    "    def test_step(self, data):\n",
    "        # Unpack the data\n",
    "        x, y_true = data\n",
    "        # Compute predictions\n",
    "        z_mean, z_log_var, z = self.encoder(x)\n",
    "        reconstruction = self.decoder(z)\n",
    "        \n",
    "        ## Losses\n",
    "        reconstruction_loss = keras.losses.mean_squared_error(y_true, reconstruction)\n",
    "        \n",
    "        kl_loss = -0.5 * (1 + z_log_var - tf.square(z_mean) - tf.exp(z_log_var))\n",
    "        kl_loss = tf.reduce_mean(tf.reduce_sum(kl_loss, axis=1))\n",
    "        \n",
    "        total_loss = reconstruction_loss + kl_loss * self.KL_hyperparam\n",
    "\n",
    "        # Updates the metrics tracking the loss\n",
    "        self.total_loss_tracker_val.update_state(total_loss)\n",
    "        \n",
    "        self.reconstruction_loss_tracker_val.update_state(reconstruction_loss)\n",
    "        \n",
    "        self.kl_loss_tracker_val.update_state(kl_loss)\n",
    "        \n",
    "        return {\n",
    "            \"loss_val\": self.total_loss_tracker_val.result(),\n",
    "            \"MSE_val\": self.reconstruction_loss_tracker_val.result(),\n",
    "            \"kl_loss_val\": self.kl_loss_tracker_val.result(),\n",
    "        }\n",
    "\n",
    "\n",
    "\n",
    "    def call(self, inputs):\n",
    "\n",
    "        z_mean, z_log_var, z = self.encoder(inputs)\n",
    "        reconstruction = self.decoder(z)\n",
    "                \n",
    "\n",
    "\n",
    "        return reconstruction\n",
    "    \n"
   ]
  },
  {
   "cell_type": "markdown",
   "metadata": {
    "id": "qlLgCJgHYU2N"
   },
   "source": [
    "## Train the VAE"
   ]
  },
  {
   "cell_type": "code",
   "execution_count": 29,
   "metadata": {},
   "outputs": [],
   "source": [
    "vae = VAE(encoder, decoder,1)"
   ]
  },
  {
   "cell_type": "code",
   "execution_count": 30,
   "metadata": {},
   "outputs": [],
   "source": [
    "vae.compile(optimizer=keras.optimizers.Adam())"
   ]
  },
  {
   "cell_type": "code",
   "execution_count": 31,
   "metadata": {},
   "outputs": [],
   "source": [
    "es = keras.callbacks.EarlyStopping(\n",
    "    monitor=\"MSE\",\n",
    "    patience=4,\n",
    ")"
   ]
  },
  {
   "cell_type": "code",
   "execution_count": 32,
   "metadata": {
    "scrolled": true
   },
   "outputs": [
    {
     "name": "stdout",
     "output_type": "stream",
     "text": [
      "Epoch 1/35\n",
      "48/48 [==============================] - 1s 21ms/step - loss: 1.1170 - MSE: 0.0352 - kl_loss: 1.2834 - val_loss_val: 6.1242 - val_MSE_val: 0.0285 - val_kl_loss_val: 6.0876\n",
      "Epoch 2/35\n",
      "48/48 [==============================] - 1s 23ms/step - loss: 1.1156 - MSE: 0.0245 - kl_loss: 0.9835 - val_loss_val: 4.2392 - val_MSE_val: 0.0248 - val_kl_loss_val: 4.2063\n",
      "Epoch 3/35\n",
      "48/48 [==============================] - 1s 31ms/step - loss: 0.5532 - MSE: 0.0225 - kl_loss: 0.4630 - val_loss_val: 3.2453 - val_MSE_val: 0.0237 - val_kl_loss_val: 3.2180\n",
      "Epoch 4/35\n",
      "48/48 [==============================] - 2s 43ms/step - loss: 0.2573 - MSE: 0.0217 - kl_loss: 0.2118 - val_loss_val: 2.7465 - val_MSE_val: 0.0230 - val_kl_loss_val: 2.7198\n",
      "Epoch 5/35\n",
      "48/48 [==============================] - 2s 34ms/step - loss: 0.1420 - MSE: 0.0210 - kl_loss: 0.1118 - val_loss_val: 2.4655 - val_MSE_val: 0.0224 - val_kl_loss_val: 2.4391\n",
      "Epoch 6/35\n",
      "48/48 [==============================] - 2s 32ms/step - loss: 0.0881 - MSE: 0.0205 - kl_loss: 0.0657 - val_loss_val: 2.2962 - val_MSE_val: 0.0220 - val_kl_loss_val: 2.2710\n",
      "Epoch 7/35\n",
      "48/48 [==============================] - 2s 33ms/step - loss: 0.0665 - MSE: 0.0202 - kl_loss: 0.0435 - val_loss_val: 2.1857 - val_MSE_val: 0.0217 - val_kl_loss_val: 2.1602\n",
      "Epoch 8/35\n",
      "48/48 [==============================] - 1s 29ms/step - loss: 0.0523 - MSE: 0.0200 - kl_loss: 0.0318 - val_loss_val: 2.0887 - val_MSE_val: 0.0215 - val_kl_loss_val: 2.0643\n",
      "Epoch 9/35\n",
      "48/48 [==============================] - 1s 31ms/step - loss: 0.0469 - MSE: 0.0198 - kl_loss: 0.0262 - val_loss_val: 2.0008 - val_MSE_val: 0.0213 - val_kl_loss_val: 1.9762\n",
      "Epoch 10/35\n",
      "48/48 [==============================] - 1s 30ms/step - loss: 0.0427 - MSE: 0.0197 - kl_loss: 0.0213 - val_loss_val: 1.9428 - val_MSE_val: 0.0211 - val_kl_loss_val: 1.9183\n",
      "Epoch 11/35\n",
      "48/48 [==============================] - 1s 30ms/step - loss: 0.0385 - MSE: 0.0195 - kl_loss: 0.0192 - val_loss_val: 1.8935 - val_MSE_val: 0.0210 - val_kl_loss_val: 1.8698\n",
      "Epoch 12/35\n",
      "48/48 [==============================] - 1s 29ms/step - loss: 0.0370 - MSE: 0.0194 - kl_loss: 0.0186 - val_loss_val: 1.8243 - val_MSE_val: 0.0210 - val_kl_loss_val: 1.7998\n",
      "Epoch 13/35\n",
      "48/48 [==============================] - 1s 26ms/step - loss: 0.0369 - MSE: 0.0194 - kl_loss: 0.0169 - val_loss_val: 1.7769 - val_MSE_val: 0.0209 - val_kl_loss_val: 1.7529\n",
      "Epoch 14/35\n",
      "48/48 [==============================] - 1s 25ms/step - loss: 0.0351 - MSE: 0.0193 - kl_loss: 0.0159 - val_loss_val: 1.7240 - val_MSE_val: 0.0209 - val_kl_loss_val: 1.7000\n",
      "Epoch 15/35\n",
      "48/48 [==============================] - 1s 26ms/step - loss: 0.0350 - MSE: 0.0193 - kl_loss: 0.0149 - val_loss_val: 1.6641 - val_MSE_val: 0.0208 - val_kl_loss_val: 1.6403\n",
      "Epoch 16/35\n",
      "48/48 [==============================] - 1s 22ms/step - loss: 0.0321 - MSE: 0.0192 - kl_loss: 0.0136 - val_loss_val: 1.6139 - val_MSE_val: 0.0208 - val_kl_loss_val: 1.5900\n",
      "Epoch 17/35\n",
      "48/48 [==============================] - 1s 22ms/step - loss: 0.0310 - MSE: 0.0192 - kl_loss: 0.0114 - val_loss_val: 1.5671 - val_MSE_val: 0.0207 - val_kl_loss_val: 1.5440\n",
      "Epoch 18/35\n",
      "48/48 [==============================] - 1s 25ms/step - loss: 0.0281 - MSE: 0.0192 - kl_loss: 0.0093 - val_loss_val: 1.5259 - val_MSE_val: 0.0207 - val_kl_loss_val: 1.5025\n",
      "Epoch 19/35\n",
      "48/48 [==============================] - 1s 23ms/step - loss: 0.0278 - MSE: 0.0192 - kl_loss: 0.0084 - val_loss_val: 1.4935 - val_MSE_val: 0.0207 - val_kl_loss_val: 1.4705\n",
      "Epoch 20/35\n",
      "48/48 [==============================] - 1s 22ms/step - loss: 0.0267 - MSE: 0.0192 - kl_loss: 0.0073 - val_loss_val: 1.4487 - val_MSE_val: 0.0207 - val_kl_loss_val: 1.4258\n",
      "Epoch 21/35\n",
      "48/48 [==============================] - 1s 22ms/step - loss: 0.0267 - MSE: 0.0191 - kl_loss: 0.0069 - val_loss_val: 1.4204 - val_MSE_val: 0.0207 - val_kl_loss_val: 1.3975\n",
      "Epoch 22/35\n",
      "48/48 [==============================] - 1s 24ms/step - loss: 0.0251 - MSE: 0.0191 - kl_loss: 0.0056 - val_loss_val: 1.3897 - val_MSE_val: 0.0207 - val_kl_loss_val: 1.3669\n",
      "Epoch 23/35\n",
      "48/48 [==============================] - 1s 25ms/step - loss: 0.0235 - MSE: 0.0191 - kl_loss: 0.0047 - val_loss_val: 1.3698 - val_MSE_val: 0.0207 - val_kl_loss_val: 1.3470\n",
      "Epoch 24/35\n",
      "48/48 [==============================] - 1s 24ms/step - loss: 0.0227 - MSE: 0.0191 - kl_loss: 0.0040 - val_loss_val: 1.3464 - val_MSE_val: 0.0207 - val_kl_loss_val: 1.3239\n",
      "Epoch 25/35\n",
      "48/48 [==============================] - 1s 22ms/step - loss: 0.0227 - MSE: 0.0191 - kl_loss: 0.0035 - val_loss_val: 1.3329 - val_MSE_val: 0.0207 - val_kl_loss_val: 1.3103\n",
      "Epoch 26/35\n",
      "48/48 [==============================] - 1s 21ms/step - loss: 0.0223 - MSE: 0.0191 - kl_loss: 0.0030 - val_loss_val: 1.3137 - val_MSE_val: 0.0207 - val_kl_loss_val: 1.2914\n",
      "Epoch 27/35\n",
      "48/48 [==============================] - 1s 21ms/step - loss: 0.0213 - MSE: 0.0191 - kl_loss: 0.0024 - val_loss_val: 1.3027 - val_MSE_val: 0.0207 - val_kl_loss_val: 1.2804\n",
      "Epoch 28/35\n",
      "48/48 [==============================] - 1s 22ms/step - loss: 0.0209 - MSE: 0.0191 - kl_loss: 0.0020 - val_loss_val: 1.2887 - val_MSE_val: 0.0207 - val_kl_loss_val: 1.2665\n",
      "Epoch 29/35\n",
      "48/48 [==============================] - 1s 21ms/step - loss: 0.0210 - MSE: 0.0191 - kl_loss: 0.0017 - val_loss_val: 1.2812 - val_MSE_val: 0.0207 - val_kl_loss_val: 1.2588\n",
      "Epoch 30/35\n",
      "48/48 [==============================] - 1s 21ms/step - loss: 0.0204 - MSE: 0.0191 - kl_loss: 0.0014 - val_loss_val: 1.2711 - val_MSE_val: 0.0207 - val_kl_loss_val: 1.2489\n",
      "Epoch 31/35\n",
      "48/48 [==============================] - 1s 22ms/step - loss: 0.0201 - MSE: 0.0191 - kl_loss: 0.0012 - val_loss_val: 1.2647 - val_MSE_val: 0.0207 - val_kl_loss_val: 1.2425\n",
      "Epoch 32/35\n",
      "48/48 [==============================] - 1s 23ms/step - loss: 0.0200 - MSE: 0.0191 - kl_loss: 9.8047e-04 - val_loss_val: 1.2604 - val_MSE_val: 0.0206 - val_kl_loss_val: 1.2383\n",
      "Epoch 33/35\n",
      "48/48 [==============================] - 1s 23ms/step - loss: 0.0203 - MSE: 0.0191 - kl_loss: 8.0998e-04 - val_loss_val: 1.2547 - val_MSE_val: 0.0206 - val_kl_loss_val: 1.2325\n",
      "Epoch 34/35\n",
      "48/48 [==============================] - 1s 21ms/step - loss: 0.0194 - MSE: 0.0191 - kl_loss: 7.0364e-04 - val_loss_val: 1.2499 - val_MSE_val: 0.0207 - val_kl_loss_val: 1.2276\n",
      "Epoch 35/35\n",
      "48/48 [==============================] - 1s 23ms/step - loss: 0.0197 - MSE: 0.0191 - kl_loss: 5.9418e-04 - val_loss_val: 1.2459 - val_MSE_val: 0.0206 - val_kl_loss_val: 1.2237\n"
     ]
    }
   ],
   "source": [
    "history = vae.fit(X_train_esc, y_train, validation_data=(X_test_esc, y_test), epochs=35, batch_size=15)#, callbacks=es)"
   ]
  },
  {
   "cell_type": "code",
   "execution_count": 36,
   "metadata": {},
   "outputs": [
    {
     "data": {
      "image/png": "[encoded data removed]",
      "text/plain": [
       "<Figure size 1440x720 with 1 Axes>"
      ]
     },
     "metadata": {
      "needs_background": "light"
     },
     "output_type": "display_data"
    }
   ],
   "source": [
    "# summarize history for accuracy\n",
    "plt.plot(history.history['MSE'])\n",
    "#plt.plot(history.history['val_total_loss'])\n",
    "plt.title('model loss')\n",
    "plt.ylabel('accuracy')\n",
    "plt.xlabel('epoch')\n",
    "plt.plot(history.history['val_MSE_val'])\n",
    "\n",
    "plt.legend(['train', 'test'], loc='upper right', fontsize ='xx-large')\n",
    "plt.show()\n"
   ]
  },
  {
   "cell_type": "code",
   "execution_count": 43,
   "metadata": {},
   "outputs": [],
   "source": [
    "samp_num = 1"
   ]
  },
  {
   "cell_type": "code",
   "execution_count": 44,
   "metadata": {
    "scrolled": false
   },
   "outputs": [
    {
     "data": {
      "text/plain": [
       "<matplotlib.collections.PathCollection at 0x1b736cc3c40>"
      ]
     },
     "execution_count": 44,
     "metadata": {},
     "output_type": "execute_result"
    },
    {
     "data": {
      "image/png": "[encoded data removed]",
      "text/plain": [
       "<Figure size 1440x720 with 1 Axes>"
      ]
     },
     "metadata": {
      "needs_background": "light"
     },
     "output_type": "display_data"
    }
   ],
   "source": [
    "sample_1 = np.r_[ y_test[samp_num,], X_test[samp_num,]]\n",
    "idx = np.arange(len(sample_1))\n",
    "plt.scatter(np.arange(len(sample_1)), sample_1, s=2, c=\"black\")\n",
    "plt.scatter(idx[-len(vae.predict(X_test)[samp_num,]):], vae.predict(X_test)[samp_num,], color='red',  s=2)\n"
   ]
  },
  {
   "cell_type": "code",
   "execution_count": 45,
   "metadata": {
    "scrolled": true
   },
   "outputs": [
    {
     "name": "stdout",
     "output_type": "stream",
     "text": [
      "dict_keys(['loss', 'MSE', 'kl_loss', 'val_loss_val', 'val_MSE_val', 'val_kl_loss_val'])\n"
     ]
    }
   ],
   "source": [
    "print(history.history.keys())"
   ]
  },
  {
   "cell_type": "code",
   "execution_count": 40,
   "metadata": {},
   "outputs": [
    {
     "data": {
      "text/plain": [
       "[<matplotlib.lines.Line2D at 0x1b72fd80dc0>]"
      ]
     },
     "execution_count": 40,
     "metadata": {},
     "output_type": "execute_result"
    },
    {
     "data": {
      "image/png": "[encoded data removed]",
      "text/plain": [
       "<Figure size 1440x720 with 1 Axes>"
      ]
     },
     "metadata": {
      "needs_background": "light"
     },
     "output_type": "display_data"
    }
   ],
   "source": [
    "plt.plot(np.sort(y_test.flatten()))\n",
    "\n",
    "plt.plot(vae.predict(X_test_esc).flatten()[np.argsort(y_test.flatten())])"
   ]
  },
  {
   "cell_type": "code",
   "execution_count": 227,
   "metadata": {
    "scrolled": true
   },
   "outputs": [
    {
     "name": "stdout",
     "output_type": "stream",
     "text": [
      "NRMSE 1.010073768846052\n",
      "MAE 28.642736364962396\n",
      "RMSE 3.128995234146258\n",
      "MSE 9.79330188769235\n"
     ]
    }
   ],
   "source": [
    "def nrmse(y_pred, y_test):\n",
    "    \n",
    "    num = tf.math.reduce_sum(tf.square(y_pred - y_test))\n",
    "    num = num / y_test.shape[1]\n",
    "    \n",
    "    den = tf.math.reduce_sum(tf.square(y_test))/y_test.shape[1]\n",
    "    \n",
    "    return (num/den).numpy()\n",
    "\n",
    "def mse(y_pred, y_test):\n",
    "    \n",
    "    num = tf.math.reduce_sum(tf.square(y_pred - y_test))\n",
    "    num = num / y_test.shape[1]\n",
    "    \n",
    "    return num.numpy()\n",
    "\n",
    "def mae(y_pred, y_test):\n",
    "    \n",
    "    num = tf.math.reduce_sum(tf.abs(y_pred - y_test))\n",
    "    num = num / y_test.shape[1]\n",
    "    \n",
    "    return num.numpy()\n",
    "\n",
    "print('NRMSE', nrmse(vae.predict(X_test), y_test))\n",
    "print('MAE', mae(vae.predict(X_test), y_test))\n",
    "print('RMSE', math.sqrt(mse(vae.predict(X_test), y_test)))\n",
    "print('MSE', mse(vae.predict(X_test), y_test))\n"
   ]
  },
  {
   "cell_type": "code",
   "execution_count": null,
   "metadata": {},
   "outputs": [],
   "source": []
  },
  {
   "cell_type": "code",
   "execution_count": null,
   "metadata": {},
   "outputs": [],
   "source": []
  }
 ],
 "metadata": {
  "colab": {
   "collapsed_sections": [],
   "name": "VAE_Playground.ipynb",
   "provenance": []
  },
  "kernelspec": {
   "display_name": "Python 3 (ipykernel)",
   "language": "python",
   "name": "python3"
  },
  "language_info": {
   "codemirror_mode": {
    "name": "ipython",
    "version": 3
   },
   "file_extension": ".py",
   "mimetype": "text/x-python",
   "name": "python",
   "nbconvert_exporter": "python",
   "pygments_lexer": "ipython3",
   "version": "3.9.7"
  }
 },
 "nbformat": 4,
 "nbformat_minor": 1
}
